{
  "cells": [
    {
      "cell_type": "code",
      "execution_count": 4,
      "metadata": {
        "id": "hEEsMRavXy3L"
      },
      "outputs": [],
      "source": [
        "import pandas as pd\n",
        "import numpy as np"
      ]
    },
    {
      "cell_type": "code",
      "execution_count": 5,
      "metadata": {
        "id": "iXngyJvOYVbm"
      },
      "outputs": [],
      "source": [
        "data = pd.read_excel('/content/Общий датасет.xlsx')"
      ]
    },
    {
      "cell_type": "code",
      "execution_count": 6,
      "metadata": {
        "id": "g0H1EPNkbGCq"
      },
      "outputs": [],
      "source": [
        "data.columns = ['type', ' client_id', 'date', 'time', 'duration', 'context']"
      ]
    },
    {
      "cell_type": "code",
      "execution_count": 7,
      "metadata": {
        "colab": {
          "base_uri": "https://localhost:8080/",
          "height": 206
        },
        "id": "OWOqb-HQYbCS",
        "outputId": "4fcc46b7-25d9-4690-86b3-3272d9a8147f"
      },
      "outputs": [
        {
          "output_type": "execute_result",
          "data": {
            "text/plain": [
              "   type   client_id        date      time  duration  \\\n",
              "0  ДС_1           1  10.02.2023  15:03:44  00:01:13   \n",
              "1  ДС_1           2  10.02.2023  12:03:43  00:00:48   \n",
              "2  ДС_1           3  10.02.2023  12:03:43  00:00:46   \n",
              "3  ДС_1           4  10.02.2023  15:04:00  00:00:51   \n",
              "4  ДС_1           5  13.02.2023  10:04:18  00:01:29   \n",
              "\n",
              "                                             context  \n",
              "0  Б: . Меня зовут Юлия , компания Ростелеком. Зв...  \n",
              "1  Б: . Меня зовут Юлия , компания Ростелеком. Зв...  \n",
              "2  Б: . Меня зовут Юлия , компания Ростелеком. Зв...  \n",
              "3  Б: . Меня зовут Юлия , компания Ростелеком. Зв...  \n",
              "4  Б: . Меня зовут Юлия , компания Ростелеком. Зв...  "
            ],
            "text/html": [
              "\n",
              "  <div id=\"df-9ff7b435-8ee9-41d8-bc32-6721bcffd083\" class=\"colab-df-container\">\n",
              "    <div>\n",
              "<style scoped>\n",
              "    .dataframe tbody tr th:only-of-type {\n",
              "        vertical-align: middle;\n",
              "    }\n",
              "\n",
              "    .dataframe tbody tr th {\n",
              "        vertical-align: top;\n",
              "    }\n",
              "\n",
              "    .dataframe thead th {\n",
              "        text-align: right;\n",
              "    }\n",
              "</style>\n",
              "<table border=\"1\" class=\"dataframe\">\n",
              "  <thead>\n",
              "    <tr style=\"text-align: right;\">\n",
              "      <th></th>\n",
              "      <th>type</th>\n",
              "      <th>client_id</th>\n",
              "      <th>date</th>\n",
              "      <th>time</th>\n",
              "      <th>duration</th>\n",
              "      <th>context</th>\n",
              "    </tr>\n",
              "  </thead>\n",
              "  <tbody>\n",
              "    <tr>\n",
              "      <th>0</th>\n",
              "      <td>ДС_1</td>\n",
              "      <td>1</td>\n",
              "      <td>10.02.2023</td>\n",
              "      <td>15:03:44</td>\n",
              "      <td>00:01:13</td>\n",
              "      <td>Б: . Меня зовут Юлия , компания Ростелеком. Зв...</td>\n",
              "    </tr>\n",
              "    <tr>\n",
              "      <th>1</th>\n",
              "      <td>ДС_1</td>\n",
              "      <td>2</td>\n",
              "      <td>10.02.2023</td>\n",
              "      <td>12:03:43</td>\n",
              "      <td>00:00:48</td>\n",
              "      <td>Б: . Меня зовут Юлия , компания Ростелеком. Зв...</td>\n",
              "    </tr>\n",
              "    <tr>\n",
              "      <th>2</th>\n",
              "      <td>ДС_1</td>\n",
              "      <td>3</td>\n",
              "      <td>10.02.2023</td>\n",
              "      <td>12:03:43</td>\n",
              "      <td>00:00:46</td>\n",
              "      <td>Б: . Меня зовут Юлия , компания Ростелеком. Зв...</td>\n",
              "    </tr>\n",
              "    <tr>\n",
              "      <th>3</th>\n",
              "      <td>ДС_1</td>\n",
              "      <td>4</td>\n",
              "      <td>10.02.2023</td>\n",
              "      <td>15:04:00</td>\n",
              "      <td>00:00:51</td>\n",
              "      <td>Б: . Меня зовут Юлия , компания Ростелеком. Зв...</td>\n",
              "    </tr>\n",
              "    <tr>\n",
              "      <th>4</th>\n",
              "      <td>ДС_1</td>\n",
              "      <td>5</td>\n",
              "      <td>13.02.2023</td>\n",
              "      <td>10:04:18</td>\n",
              "      <td>00:01:29</td>\n",
              "      <td>Б: . Меня зовут Юлия , компания Ростелеком. Зв...</td>\n",
              "    </tr>\n",
              "  </tbody>\n",
              "</table>\n",
              "</div>\n",
              "    <div class=\"colab-df-buttons\">\n",
              "\n",
              "  <div class=\"colab-df-container\">\n",
              "    <button class=\"colab-df-convert\" onclick=\"convertToInteractive('df-9ff7b435-8ee9-41d8-bc32-6721bcffd083')\"\n",
              "            title=\"Convert this dataframe to an interactive table.\"\n",
              "            style=\"display:none;\">\n",
              "\n",
              "  <svg xmlns=\"http://www.w3.org/2000/svg\" height=\"24px\" viewBox=\"0 -960 960 960\">\n",
              "    <path d=\"M120-120v-720h720v720H120Zm60-500h600v-160H180v160Zm220 220h160v-160H400v160Zm0 220h160v-160H400v160ZM180-400h160v-160H180v160Zm440 0h160v-160H620v160ZM180-180h160v-160H180v160Zm440 0h160v-160H620v160Z\"/>\n",
              "  </svg>\n",
              "    </button>\n",
              "\n",
              "  <style>\n",
              "    .colab-df-container {\n",
              "      display:flex;\n",
              "      gap: 12px;\n",
              "    }\n",
              "\n",
              "    .colab-df-convert {\n",
              "      background-color: #E8F0FE;\n",
              "      border: none;\n",
              "      border-radius: 50%;\n",
              "      cursor: pointer;\n",
              "      display: none;\n",
              "      fill: #1967D2;\n",
              "      height: 32px;\n",
              "      padding: 0 0 0 0;\n",
              "      width: 32px;\n",
              "    }\n",
              "\n",
              "    .colab-df-convert:hover {\n",
              "      background-color: #E2EBFA;\n",
              "      box-shadow: 0px 1px 2px rgba(60, 64, 67, 0.3), 0px 1px 3px 1px rgba(60, 64, 67, 0.15);\n",
              "      fill: #174EA6;\n",
              "    }\n",
              "\n",
              "    .colab-df-buttons div {\n",
              "      margin-bottom: 4px;\n",
              "    }\n",
              "\n",
              "    [theme=dark] .colab-df-convert {\n",
              "      background-color: #3B4455;\n",
              "      fill: #D2E3FC;\n",
              "    }\n",
              "\n",
              "    [theme=dark] .colab-df-convert:hover {\n",
              "      background-color: #434B5C;\n",
              "      box-shadow: 0px 1px 3px 1px rgba(0, 0, 0, 0.15);\n",
              "      filter: drop-shadow(0px 1px 2px rgba(0, 0, 0, 0.3));\n",
              "      fill: #FFFFFF;\n",
              "    }\n",
              "  </style>\n",
              "\n",
              "    <script>\n",
              "      const buttonEl =\n",
              "        document.querySelector('#df-9ff7b435-8ee9-41d8-bc32-6721bcffd083 button.colab-df-convert');\n",
              "      buttonEl.style.display =\n",
              "        google.colab.kernel.accessAllowed ? 'block' : 'none';\n",
              "\n",
              "      async function convertToInteractive(key) {\n",
              "        const element = document.querySelector('#df-9ff7b435-8ee9-41d8-bc32-6721bcffd083');\n",
              "        const dataTable =\n",
              "          await google.colab.kernel.invokeFunction('convertToInteractive',\n",
              "                                                    [key], {});\n",
              "        if (!dataTable) return;\n",
              "\n",
              "        const docLinkHtml = 'Like what you see? Visit the ' +\n",
              "          '<a target=\"_blank\" href=https://colab.research.google.com/notebooks/data_table.ipynb>data table notebook</a>'\n",
              "          + ' to learn more about interactive tables.';\n",
              "        element.innerHTML = '';\n",
              "        dataTable['output_type'] = 'display_data';\n",
              "        await google.colab.output.renderOutput(dataTable, element);\n",
              "        const docLink = document.createElement('div');\n",
              "        docLink.innerHTML = docLinkHtml;\n",
              "        element.appendChild(docLink);\n",
              "      }\n",
              "    </script>\n",
              "  </div>\n",
              "\n",
              "\n",
              "<div id=\"df-77025976-1ae7-4798-9e90-b56d7bc602b0\">\n",
              "  <button class=\"colab-df-quickchart\" onclick=\"quickchart('df-77025976-1ae7-4798-9e90-b56d7bc602b0')\"\n",
              "            title=\"Suggest charts\"\n",
              "            style=\"display:none;\">\n",
              "\n",
              "<svg xmlns=\"http://www.w3.org/2000/svg\" height=\"24px\"viewBox=\"0 0 24 24\"\n",
              "     width=\"24px\">\n",
              "    <g>\n",
              "        <path d=\"M19 3H5c-1.1 0-2 .9-2 2v14c0 1.1.9 2 2 2h14c1.1 0 2-.9 2-2V5c0-1.1-.9-2-2-2zM9 17H7v-7h2v7zm4 0h-2V7h2v10zm4 0h-2v-4h2v4z\"/>\n",
              "    </g>\n",
              "</svg>\n",
              "  </button>\n",
              "\n",
              "<style>\n",
              "  .colab-df-quickchart {\n",
              "      --bg-color: #E8F0FE;\n",
              "      --fill-color: #1967D2;\n",
              "      --hover-bg-color: #E2EBFA;\n",
              "      --hover-fill-color: #174EA6;\n",
              "      --disabled-fill-color: #AAA;\n",
              "      --disabled-bg-color: #DDD;\n",
              "  }\n",
              "\n",
              "  [theme=dark] .colab-df-quickchart {\n",
              "      --bg-color: #3B4455;\n",
              "      --fill-color: #D2E3FC;\n",
              "      --hover-bg-color: #434B5C;\n",
              "      --hover-fill-color: #FFFFFF;\n",
              "      --disabled-bg-color: #3B4455;\n",
              "      --disabled-fill-color: #666;\n",
              "  }\n",
              "\n",
              "  .colab-df-quickchart {\n",
              "    background-color: var(--bg-color);\n",
              "    border: none;\n",
              "    border-radius: 50%;\n",
              "    cursor: pointer;\n",
              "    display: none;\n",
              "    fill: var(--fill-color);\n",
              "    height: 32px;\n",
              "    padding: 0;\n",
              "    width: 32px;\n",
              "  }\n",
              "\n",
              "  .colab-df-quickchart:hover {\n",
              "    background-color: var(--hover-bg-color);\n",
              "    box-shadow: 0 1px 2px rgba(60, 64, 67, 0.3), 0 1px 3px 1px rgba(60, 64, 67, 0.15);\n",
              "    fill: var(--button-hover-fill-color);\n",
              "  }\n",
              "\n",
              "  .colab-df-quickchart-complete:disabled,\n",
              "  .colab-df-quickchart-complete:disabled:hover {\n",
              "    background-color: var(--disabled-bg-color);\n",
              "    fill: var(--disabled-fill-color);\n",
              "    box-shadow: none;\n",
              "  }\n",
              "\n",
              "  .colab-df-spinner {\n",
              "    border: 2px solid var(--fill-color);\n",
              "    border-color: transparent;\n",
              "    border-bottom-color: var(--fill-color);\n",
              "    animation:\n",
              "      spin 1s steps(1) infinite;\n",
              "  }\n",
              "\n",
              "  @keyframes spin {\n",
              "    0% {\n",
              "      border-color: transparent;\n",
              "      border-bottom-color: var(--fill-color);\n",
              "      border-left-color: var(--fill-color);\n",
              "    }\n",
              "    20% {\n",
              "      border-color: transparent;\n",
              "      border-left-color: var(--fill-color);\n",
              "      border-top-color: var(--fill-color);\n",
              "    }\n",
              "    30% {\n",
              "      border-color: transparent;\n",
              "      border-left-color: var(--fill-color);\n",
              "      border-top-color: var(--fill-color);\n",
              "      border-right-color: var(--fill-color);\n",
              "    }\n",
              "    40% {\n",
              "      border-color: transparent;\n",
              "      border-right-color: var(--fill-color);\n",
              "      border-top-color: var(--fill-color);\n",
              "    }\n",
              "    60% {\n",
              "      border-color: transparent;\n",
              "      border-right-color: var(--fill-color);\n",
              "    }\n",
              "    80% {\n",
              "      border-color: transparent;\n",
              "      border-right-color: var(--fill-color);\n",
              "      border-bottom-color: var(--fill-color);\n",
              "    }\n",
              "    90% {\n",
              "      border-color: transparent;\n",
              "      border-bottom-color: var(--fill-color);\n",
              "    }\n",
              "  }\n",
              "</style>\n",
              "\n",
              "  <script>\n",
              "    async function quickchart(key) {\n",
              "      const quickchartButtonEl =\n",
              "        document.querySelector('#' + key + ' button');\n",
              "      quickchartButtonEl.disabled = true;  // To prevent multiple clicks.\n",
              "      quickchartButtonEl.classList.add('colab-df-spinner');\n",
              "      try {\n",
              "        const charts = await google.colab.kernel.invokeFunction(\n",
              "            'suggestCharts', [key], {});\n",
              "      } catch (error) {\n",
              "        console.error('Error during call to suggestCharts:', error);\n",
              "      }\n",
              "      quickchartButtonEl.classList.remove('colab-df-spinner');\n",
              "      quickchartButtonEl.classList.add('colab-df-quickchart-complete');\n",
              "    }\n",
              "    (() => {\n",
              "      let quickchartButtonEl =\n",
              "        document.querySelector('#df-77025976-1ae7-4798-9e90-b56d7bc602b0 button');\n",
              "      quickchartButtonEl.style.display =\n",
              "        google.colab.kernel.accessAllowed ? 'block' : 'none';\n",
              "    })();\n",
              "  </script>\n",
              "</div>\n",
              "    </div>\n",
              "  </div>\n"
            ]
          },
          "metadata": {},
          "execution_count": 7
        }
      ],
      "source": [
        "data.head()"
      ]
    },
    {
      "cell_type": "code",
      "execution_count": 8,
      "metadata": {
        "colab": {
          "base_uri": "https://localhost:8080/",
          "height": 206
        },
        "id": "711XfG7yY2W-",
        "outputId": "42950b98-051e-4d7c-dc34-1930efd68e47"
      },
      "outputs": [
        {
          "output_type": "execute_result",
          "data": {
            "text/plain": [
              "    client_id        date      time  duration  \\\n",
              "0           1  10.02.2023  15:03:44  00:01:13   \n",
              "1           2  10.02.2023  12:03:43  00:00:48   \n",
              "2           3  10.02.2023  12:03:43  00:00:46   \n",
              "3           4  10.02.2023  15:04:00  00:00:51   \n",
              "4           5  13.02.2023  10:04:18  00:01:29   \n",
              "\n",
              "                                             context  \n",
              "0  Б: . Меня зовут Юлия , компания Ростелеком. Зв...  \n",
              "1  Б: . Меня зовут Юлия , компания Ростелеком. Зв...  \n",
              "2  Б: . Меня зовут Юлия , компания Ростелеком. Зв...  \n",
              "3  Б: . Меня зовут Юлия , компания Ростелеком. Зв...  \n",
              "4  Б: . Меня зовут Юлия , компания Ростелеком. Зв...  "
            ],
            "text/html": [
              "\n",
              "  <div id=\"df-10e49d4a-d4ec-4a05-b8f4-01edc6736a4e\" class=\"colab-df-container\">\n",
              "    <div>\n",
              "<style scoped>\n",
              "    .dataframe tbody tr th:only-of-type {\n",
              "        vertical-align: middle;\n",
              "    }\n",
              "\n",
              "    .dataframe tbody tr th {\n",
              "        vertical-align: top;\n",
              "    }\n",
              "\n",
              "    .dataframe thead th {\n",
              "        text-align: right;\n",
              "    }\n",
              "</style>\n",
              "<table border=\"1\" class=\"dataframe\">\n",
              "  <thead>\n",
              "    <tr style=\"text-align: right;\">\n",
              "      <th></th>\n",
              "      <th>client_id</th>\n",
              "      <th>date</th>\n",
              "      <th>time</th>\n",
              "      <th>duration</th>\n",
              "      <th>context</th>\n",
              "    </tr>\n",
              "  </thead>\n",
              "  <tbody>\n",
              "    <tr>\n",
              "      <th>0</th>\n",
              "      <td>1</td>\n",
              "      <td>10.02.2023</td>\n",
              "      <td>15:03:44</td>\n",
              "      <td>00:01:13</td>\n",
              "      <td>Б: . Меня зовут Юлия , компания Ростелеком. Зв...</td>\n",
              "    </tr>\n",
              "    <tr>\n",
              "      <th>1</th>\n",
              "      <td>2</td>\n",
              "      <td>10.02.2023</td>\n",
              "      <td>12:03:43</td>\n",
              "      <td>00:00:48</td>\n",
              "      <td>Б: . Меня зовут Юлия , компания Ростелеком. Зв...</td>\n",
              "    </tr>\n",
              "    <tr>\n",
              "      <th>2</th>\n",
              "      <td>3</td>\n",
              "      <td>10.02.2023</td>\n",
              "      <td>12:03:43</td>\n",
              "      <td>00:00:46</td>\n",
              "      <td>Б: . Меня зовут Юлия , компания Ростелеком. Зв...</td>\n",
              "    </tr>\n",
              "    <tr>\n",
              "      <th>3</th>\n",
              "      <td>4</td>\n",
              "      <td>10.02.2023</td>\n",
              "      <td>15:04:00</td>\n",
              "      <td>00:00:51</td>\n",
              "      <td>Б: . Меня зовут Юлия , компания Ростелеком. Зв...</td>\n",
              "    </tr>\n",
              "    <tr>\n",
              "      <th>4</th>\n",
              "      <td>5</td>\n",
              "      <td>13.02.2023</td>\n",
              "      <td>10:04:18</td>\n",
              "      <td>00:01:29</td>\n",
              "      <td>Б: . Меня зовут Юлия , компания Ростелеком. Зв...</td>\n",
              "    </tr>\n",
              "  </tbody>\n",
              "</table>\n",
              "</div>\n",
              "    <div class=\"colab-df-buttons\">\n",
              "\n",
              "  <div class=\"colab-df-container\">\n",
              "    <button class=\"colab-df-convert\" onclick=\"convertToInteractive('df-10e49d4a-d4ec-4a05-b8f4-01edc6736a4e')\"\n",
              "            title=\"Convert this dataframe to an interactive table.\"\n",
              "            style=\"display:none;\">\n",
              "\n",
              "  <svg xmlns=\"http://www.w3.org/2000/svg\" height=\"24px\" viewBox=\"0 -960 960 960\">\n",
              "    <path d=\"M120-120v-720h720v720H120Zm60-500h600v-160H180v160Zm220 220h160v-160H400v160Zm0 220h160v-160H400v160ZM180-400h160v-160H180v160Zm440 0h160v-160H620v160ZM180-180h160v-160H180v160Zm440 0h160v-160H620v160Z\"/>\n",
              "  </svg>\n",
              "    </button>\n",
              "\n",
              "  <style>\n",
              "    .colab-df-container {\n",
              "      display:flex;\n",
              "      gap: 12px;\n",
              "    }\n",
              "\n",
              "    .colab-df-convert {\n",
              "      background-color: #E8F0FE;\n",
              "      border: none;\n",
              "      border-radius: 50%;\n",
              "      cursor: pointer;\n",
              "      display: none;\n",
              "      fill: #1967D2;\n",
              "      height: 32px;\n",
              "      padding: 0 0 0 0;\n",
              "      width: 32px;\n",
              "    }\n",
              "\n",
              "    .colab-df-convert:hover {\n",
              "      background-color: #E2EBFA;\n",
              "      box-shadow: 0px 1px 2px rgba(60, 64, 67, 0.3), 0px 1px 3px 1px rgba(60, 64, 67, 0.15);\n",
              "      fill: #174EA6;\n",
              "    }\n",
              "\n",
              "    .colab-df-buttons div {\n",
              "      margin-bottom: 4px;\n",
              "    }\n",
              "\n",
              "    [theme=dark] .colab-df-convert {\n",
              "      background-color: #3B4455;\n",
              "      fill: #D2E3FC;\n",
              "    }\n",
              "\n",
              "    [theme=dark] .colab-df-convert:hover {\n",
              "      background-color: #434B5C;\n",
              "      box-shadow: 0px 1px 3px 1px rgba(0, 0, 0, 0.15);\n",
              "      filter: drop-shadow(0px 1px 2px rgba(0, 0, 0, 0.3));\n",
              "      fill: #FFFFFF;\n",
              "    }\n",
              "  </style>\n",
              "\n",
              "    <script>\n",
              "      const buttonEl =\n",
              "        document.querySelector('#df-10e49d4a-d4ec-4a05-b8f4-01edc6736a4e button.colab-df-convert');\n",
              "      buttonEl.style.display =\n",
              "        google.colab.kernel.accessAllowed ? 'block' : 'none';\n",
              "\n",
              "      async function convertToInteractive(key) {\n",
              "        const element = document.querySelector('#df-10e49d4a-d4ec-4a05-b8f4-01edc6736a4e');\n",
              "        const dataTable =\n",
              "          await google.colab.kernel.invokeFunction('convertToInteractive',\n",
              "                                                    [key], {});\n",
              "        if (!dataTable) return;\n",
              "\n",
              "        const docLinkHtml = 'Like what you see? Visit the ' +\n",
              "          '<a target=\"_blank\" href=https://colab.research.google.com/notebooks/data_table.ipynb>data table notebook</a>'\n",
              "          + ' to learn more about interactive tables.';\n",
              "        element.innerHTML = '';\n",
              "        dataTable['output_type'] = 'display_data';\n",
              "        await google.colab.output.renderOutput(dataTable, element);\n",
              "        const docLink = document.createElement('div');\n",
              "        docLink.innerHTML = docLinkHtml;\n",
              "        element.appendChild(docLink);\n",
              "      }\n",
              "    </script>\n",
              "  </div>\n",
              "\n",
              "\n",
              "<div id=\"df-d4f28916-82da-41f6-ae4d-276f3bac3a3d\">\n",
              "  <button class=\"colab-df-quickchart\" onclick=\"quickchart('df-d4f28916-82da-41f6-ae4d-276f3bac3a3d')\"\n",
              "            title=\"Suggest charts\"\n",
              "            style=\"display:none;\">\n",
              "\n",
              "<svg xmlns=\"http://www.w3.org/2000/svg\" height=\"24px\"viewBox=\"0 0 24 24\"\n",
              "     width=\"24px\">\n",
              "    <g>\n",
              "        <path d=\"M19 3H5c-1.1 0-2 .9-2 2v14c0 1.1.9 2 2 2h14c1.1 0 2-.9 2-2V5c0-1.1-.9-2-2-2zM9 17H7v-7h2v7zm4 0h-2V7h2v10zm4 0h-2v-4h2v4z\"/>\n",
              "    </g>\n",
              "</svg>\n",
              "  </button>\n",
              "\n",
              "<style>\n",
              "  .colab-df-quickchart {\n",
              "      --bg-color: #E8F0FE;\n",
              "      --fill-color: #1967D2;\n",
              "      --hover-bg-color: #E2EBFA;\n",
              "      --hover-fill-color: #174EA6;\n",
              "      --disabled-fill-color: #AAA;\n",
              "      --disabled-bg-color: #DDD;\n",
              "  }\n",
              "\n",
              "  [theme=dark] .colab-df-quickchart {\n",
              "      --bg-color: #3B4455;\n",
              "      --fill-color: #D2E3FC;\n",
              "      --hover-bg-color: #434B5C;\n",
              "      --hover-fill-color: #FFFFFF;\n",
              "      --disabled-bg-color: #3B4455;\n",
              "      --disabled-fill-color: #666;\n",
              "  }\n",
              "\n",
              "  .colab-df-quickchart {\n",
              "    background-color: var(--bg-color);\n",
              "    border: none;\n",
              "    border-radius: 50%;\n",
              "    cursor: pointer;\n",
              "    display: none;\n",
              "    fill: var(--fill-color);\n",
              "    height: 32px;\n",
              "    padding: 0;\n",
              "    width: 32px;\n",
              "  }\n",
              "\n",
              "  .colab-df-quickchart:hover {\n",
              "    background-color: var(--hover-bg-color);\n",
              "    box-shadow: 0 1px 2px rgba(60, 64, 67, 0.3), 0 1px 3px 1px rgba(60, 64, 67, 0.15);\n",
              "    fill: var(--button-hover-fill-color);\n",
              "  }\n",
              "\n",
              "  .colab-df-quickchart-complete:disabled,\n",
              "  .colab-df-quickchart-complete:disabled:hover {\n",
              "    background-color: var(--disabled-bg-color);\n",
              "    fill: var(--disabled-fill-color);\n",
              "    box-shadow: none;\n",
              "  }\n",
              "\n",
              "  .colab-df-spinner {\n",
              "    border: 2px solid var(--fill-color);\n",
              "    border-color: transparent;\n",
              "    border-bottom-color: var(--fill-color);\n",
              "    animation:\n",
              "      spin 1s steps(1) infinite;\n",
              "  }\n",
              "\n",
              "  @keyframes spin {\n",
              "    0% {\n",
              "      border-color: transparent;\n",
              "      border-bottom-color: var(--fill-color);\n",
              "      border-left-color: var(--fill-color);\n",
              "    }\n",
              "    20% {\n",
              "      border-color: transparent;\n",
              "      border-left-color: var(--fill-color);\n",
              "      border-top-color: var(--fill-color);\n",
              "    }\n",
              "    30% {\n",
              "      border-color: transparent;\n",
              "      border-left-color: var(--fill-color);\n",
              "      border-top-color: var(--fill-color);\n",
              "      border-right-color: var(--fill-color);\n",
              "    }\n",
              "    40% {\n",
              "      border-color: transparent;\n",
              "      border-right-color: var(--fill-color);\n",
              "      border-top-color: var(--fill-color);\n",
              "    }\n",
              "    60% {\n",
              "      border-color: transparent;\n",
              "      border-right-color: var(--fill-color);\n",
              "    }\n",
              "    80% {\n",
              "      border-color: transparent;\n",
              "      border-right-color: var(--fill-color);\n",
              "      border-bottom-color: var(--fill-color);\n",
              "    }\n",
              "    90% {\n",
              "      border-color: transparent;\n",
              "      border-bottom-color: var(--fill-color);\n",
              "    }\n",
              "  }\n",
              "</style>\n",
              "\n",
              "  <script>\n",
              "    async function quickchart(key) {\n",
              "      const quickchartButtonEl =\n",
              "        document.querySelector('#' + key + ' button');\n",
              "      quickchartButtonEl.disabled = true;  // To prevent multiple clicks.\n",
              "      quickchartButtonEl.classList.add('colab-df-spinner');\n",
              "      try {\n",
              "        const charts = await google.colab.kernel.invokeFunction(\n",
              "            'suggestCharts', [key], {});\n",
              "      } catch (error) {\n",
              "        console.error('Error during call to suggestCharts:', error);\n",
              "      }\n",
              "      quickchartButtonEl.classList.remove('colab-df-spinner');\n",
              "      quickchartButtonEl.classList.add('colab-df-quickchart-complete');\n",
              "    }\n",
              "    (() => {\n",
              "      let quickchartButtonEl =\n",
              "        document.querySelector('#df-d4f28916-82da-41f6-ae4d-276f3bac3a3d button');\n",
              "      quickchartButtonEl.style.display =\n",
              "        google.colab.kernel.accessAllowed ? 'block' : 'none';\n",
              "    })();\n",
              "  </script>\n",
              "</div>\n",
              "    </div>\n",
              "  </div>\n"
            ]
          },
          "metadata": {},
          "execution_count": 8
        }
      ],
      "source": [
        "data.drop(\"type\", axis=1).head()"
      ]
    },
    {
      "cell_type": "code",
      "execution_count": 9,
      "metadata": {
        "id": "UxenksUJZ_YU"
      },
      "outputs": [],
      "source": [
        "data['duration'] = pd.to_timedelta(data['duration'])\n",
        "\n",
        "filtered_data = data.loc[data['duration'] > '00:01:13']"
      ]
    },
    {
      "cell_type": "code",
      "execution_count": 10,
      "metadata": {
        "colab": {
          "base_uri": "https://localhost:8080/",
          "height": 206
        },
        "id": "HVJusl45cnha",
        "outputId": "285ea256-ba3e-4d46-dbdc-79c64e3b3606"
      },
      "outputs": [
        {
          "output_type": "execute_result",
          "data": {
            "text/plain": [
              "    type   client_id        date      time        duration  \\\n",
              "4   ДС_1           5  13.02.2023  10:04:18 0 days 00:01:29   \n",
              "9   ДС_1          10  10.02.2023  15:05:25 0 days 00:02:52   \n",
              "12  ДС_1          13  13.02.2023  10:05:32 0 days 00:01:21   \n",
              "16  ДС_1          17  10.02.2023  12:04:08 0 days 00:03:28   \n",
              "28  ДС_1          29  13.02.2023  10:04:46 0 days 00:01:14   \n",
              "\n",
              "                                              context  \n",
              "4   Б: . Меня зовут Юлия , компания Ростелеком. Зв...  \n",
              "9   Б: . Меня зовут Юлия , компания Ростелеком. Зв...  \n",
              "12  Б: . Меня зовут Юлия , компания Ростелеком. Зв...  \n",
              "16  Б: . Меня зовут Юлия , компания Ростелеком. Зв...  \n",
              "28  Б: . Меня зовут Юлия , компания Ростелеком. Зв...  "
            ],
            "text/html": [
              "\n",
              "  <div id=\"df-1a807f9e-4841-4c32-87b3-8a09536e202f\" class=\"colab-df-container\">\n",
              "    <div>\n",
              "<style scoped>\n",
              "    .dataframe tbody tr th:only-of-type {\n",
              "        vertical-align: middle;\n",
              "    }\n",
              "\n",
              "    .dataframe tbody tr th {\n",
              "        vertical-align: top;\n",
              "    }\n",
              "\n",
              "    .dataframe thead th {\n",
              "        text-align: right;\n",
              "    }\n",
              "</style>\n",
              "<table border=\"1\" class=\"dataframe\">\n",
              "  <thead>\n",
              "    <tr style=\"text-align: right;\">\n",
              "      <th></th>\n",
              "      <th>type</th>\n",
              "      <th>client_id</th>\n",
              "      <th>date</th>\n",
              "      <th>time</th>\n",
              "      <th>duration</th>\n",
              "      <th>context</th>\n",
              "    </tr>\n",
              "  </thead>\n",
              "  <tbody>\n",
              "    <tr>\n",
              "      <th>4</th>\n",
              "      <td>ДС_1</td>\n",
              "      <td>5</td>\n",
              "      <td>13.02.2023</td>\n",
              "      <td>10:04:18</td>\n",
              "      <td>0 days 00:01:29</td>\n",
              "      <td>Б: . Меня зовут Юлия , компания Ростелеком. Зв...</td>\n",
              "    </tr>\n",
              "    <tr>\n",
              "      <th>9</th>\n",
              "      <td>ДС_1</td>\n",
              "      <td>10</td>\n",
              "      <td>10.02.2023</td>\n",
              "      <td>15:05:25</td>\n",
              "      <td>0 days 00:02:52</td>\n",
              "      <td>Б: . Меня зовут Юлия , компания Ростелеком. Зв...</td>\n",
              "    </tr>\n",
              "    <tr>\n",
              "      <th>12</th>\n",
              "      <td>ДС_1</td>\n",
              "      <td>13</td>\n",
              "      <td>13.02.2023</td>\n",
              "      <td>10:05:32</td>\n",
              "      <td>0 days 00:01:21</td>\n",
              "      <td>Б: . Меня зовут Юлия , компания Ростелеком. Зв...</td>\n",
              "    </tr>\n",
              "    <tr>\n",
              "      <th>16</th>\n",
              "      <td>ДС_1</td>\n",
              "      <td>17</td>\n",
              "      <td>10.02.2023</td>\n",
              "      <td>12:04:08</td>\n",
              "      <td>0 days 00:03:28</td>\n",
              "      <td>Б: . Меня зовут Юлия , компания Ростелеком. Зв...</td>\n",
              "    </tr>\n",
              "    <tr>\n",
              "      <th>28</th>\n",
              "      <td>ДС_1</td>\n",
              "      <td>29</td>\n",
              "      <td>13.02.2023</td>\n",
              "      <td>10:04:46</td>\n",
              "      <td>0 days 00:01:14</td>\n",
              "      <td>Б: . Меня зовут Юлия , компания Ростелеком. Зв...</td>\n",
              "    </tr>\n",
              "  </tbody>\n",
              "</table>\n",
              "</div>\n",
              "    <div class=\"colab-df-buttons\">\n",
              "\n",
              "  <div class=\"colab-df-container\">\n",
              "    <button class=\"colab-df-convert\" onclick=\"convertToInteractive('df-1a807f9e-4841-4c32-87b3-8a09536e202f')\"\n",
              "            title=\"Convert this dataframe to an interactive table.\"\n",
              "            style=\"display:none;\">\n",
              "\n",
              "  <svg xmlns=\"http://www.w3.org/2000/svg\" height=\"24px\" viewBox=\"0 -960 960 960\">\n",
              "    <path d=\"M120-120v-720h720v720H120Zm60-500h600v-160H180v160Zm220 220h160v-160H400v160Zm0 220h160v-160H400v160ZM180-400h160v-160H180v160Zm440 0h160v-160H620v160ZM180-180h160v-160H180v160Zm440 0h160v-160H620v160Z\"/>\n",
              "  </svg>\n",
              "    </button>\n",
              "\n",
              "  <style>\n",
              "    .colab-df-container {\n",
              "      display:flex;\n",
              "      gap: 12px;\n",
              "    }\n",
              "\n",
              "    .colab-df-convert {\n",
              "      background-color: #E8F0FE;\n",
              "      border: none;\n",
              "      border-radius: 50%;\n",
              "      cursor: pointer;\n",
              "      display: none;\n",
              "      fill: #1967D2;\n",
              "      height: 32px;\n",
              "      padding: 0 0 0 0;\n",
              "      width: 32px;\n",
              "    }\n",
              "\n",
              "    .colab-df-convert:hover {\n",
              "      background-color: #E2EBFA;\n",
              "      box-shadow: 0px 1px 2px rgba(60, 64, 67, 0.3), 0px 1px 3px 1px rgba(60, 64, 67, 0.15);\n",
              "      fill: #174EA6;\n",
              "    }\n",
              "\n",
              "    .colab-df-buttons div {\n",
              "      margin-bottom: 4px;\n",
              "    }\n",
              "\n",
              "    [theme=dark] .colab-df-convert {\n",
              "      background-color: #3B4455;\n",
              "      fill: #D2E3FC;\n",
              "    }\n",
              "\n",
              "    [theme=dark] .colab-df-convert:hover {\n",
              "      background-color: #434B5C;\n",
              "      box-shadow: 0px 1px 3px 1px rgba(0, 0, 0, 0.15);\n",
              "      filter: drop-shadow(0px 1px 2px rgba(0, 0, 0, 0.3));\n",
              "      fill: #FFFFFF;\n",
              "    }\n",
              "  </style>\n",
              "\n",
              "    <script>\n",
              "      const buttonEl =\n",
              "        document.querySelector('#df-1a807f9e-4841-4c32-87b3-8a09536e202f button.colab-df-convert');\n",
              "      buttonEl.style.display =\n",
              "        google.colab.kernel.accessAllowed ? 'block' : 'none';\n",
              "\n",
              "      async function convertToInteractive(key) {\n",
              "        const element = document.querySelector('#df-1a807f9e-4841-4c32-87b3-8a09536e202f');\n",
              "        const dataTable =\n",
              "          await google.colab.kernel.invokeFunction('convertToInteractive',\n",
              "                                                    [key], {});\n",
              "        if (!dataTable) return;\n",
              "\n",
              "        const docLinkHtml = 'Like what you see? Visit the ' +\n",
              "          '<a target=\"_blank\" href=https://colab.research.google.com/notebooks/data_table.ipynb>data table notebook</a>'\n",
              "          + ' to learn more about interactive tables.';\n",
              "        element.innerHTML = '';\n",
              "        dataTable['output_type'] = 'display_data';\n",
              "        await google.colab.output.renderOutput(dataTable, element);\n",
              "        const docLink = document.createElement('div');\n",
              "        docLink.innerHTML = docLinkHtml;\n",
              "        element.appendChild(docLink);\n",
              "      }\n",
              "    </script>\n",
              "  </div>\n",
              "\n",
              "\n",
              "<div id=\"df-33b81ff8-c2a9-454a-ad15-3f1cfb837371\">\n",
              "  <button class=\"colab-df-quickchart\" onclick=\"quickchart('df-33b81ff8-c2a9-454a-ad15-3f1cfb837371')\"\n",
              "            title=\"Suggest charts\"\n",
              "            style=\"display:none;\">\n",
              "\n",
              "<svg xmlns=\"http://www.w3.org/2000/svg\" height=\"24px\"viewBox=\"0 0 24 24\"\n",
              "     width=\"24px\">\n",
              "    <g>\n",
              "        <path d=\"M19 3H5c-1.1 0-2 .9-2 2v14c0 1.1.9 2 2 2h14c1.1 0 2-.9 2-2V5c0-1.1-.9-2-2-2zM9 17H7v-7h2v7zm4 0h-2V7h2v10zm4 0h-2v-4h2v4z\"/>\n",
              "    </g>\n",
              "</svg>\n",
              "  </button>\n",
              "\n",
              "<style>\n",
              "  .colab-df-quickchart {\n",
              "      --bg-color: #E8F0FE;\n",
              "      --fill-color: #1967D2;\n",
              "      --hover-bg-color: #E2EBFA;\n",
              "      --hover-fill-color: #174EA6;\n",
              "      --disabled-fill-color: #AAA;\n",
              "      --disabled-bg-color: #DDD;\n",
              "  }\n",
              "\n",
              "  [theme=dark] .colab-df-quickchart {\n",
              "      --bg-color: #3B4455;\n",
              "      --fill-color: #D2E3FC;\n",
              "      --hover-bg-color: #434B5C;\n",
              "      --hover-fill-color: #FFFFFF;\n",
              "      --disabled-bg-color: #3B4455;\n",
              "      --disabled-fill-color: #666;\n",
              "  }\n",
              "\n",
              "  .colab-df-quickchart {\n",
              "    background-color: var(--bg-color);\n",
              "    border: none;\n",
              "    border-radius: 50%;\n",
              "    cursor: pointer;\n",
              "    display: none;\n",
              "    fill: var(--fill-color);\n",
              "    height: 32px;\n",
              "    padding: 0;\n",
              "    width: 32px;\n",
              "  }\n",
              "\n",
              "  .colab-df-quickchart:hover {\n",
              "    background-color: var(--hover-bg-color);\n",
              "    box-shadow: 0 1px 2px rgba(60, 64, 67, 0.3), 0 1px 3px 1px rgba(60, 64, 67, 0.15);\n",
              "    fill: var(--button-hover-fill-color);\n",
              "  }\n",
              "\n",
              "  .colab-df-quickchart-complete:disabled,\n",
              "  .colab-df-quickchart-complete:disabled:hover {\n",
              "    background-color: var(--disabled-bg-color);\n",
              "    fill: var(--disabled-fill-color);\n",
              "    box-shadow: none;\n",
              "  }\n",
              "\n",
              "  .colab-df-spinner {\n",
              "    border: 2px solid var(--fill-color);\n",
              "    border-color: transparent;\n",
              "    border-bottom-color: var(--fill-color);\n",
              "    animation:\n",
              "      spin 1s steps(1) infinite;\n",
              "  }\n",
              "\n",
              "  @keyframes spin {\n",
              "    0% {\n",
              "      border-color: transparent;\n",
              "      border-bottom-color: var(--fill-color);\n",
              "      border-left-color: var(--fill-color);\n",
              "    }\n",
              "    20% {\n",
              "      border-color: transparent;\n",
              "      border-left-color: var(--fill-color);\n",
              "      border-top-color: var(--fill-color);\n",
              "    }\n",
              "    30% {\n",
              "      border-color: transparent;\n",
              "      border-left-color: var(--fill-color);\n",
              "      border-top-color: var(--fill-color);\n",
              "      border-right-color: var(--fill-color);\n",
              "    }\n",
              "    40% {\n",
              "      border-color: transparent;\n",
              "      border-right-color: var(--fill-color);\n",
              "      border-top-color: var(--fill-color);\n",
              "    }\n",
              "    60% {\n",
              "      border-color: transparent;\n",
              "      border-right-color: var(--fill-color);\n",
              "    }\n",
              "    80% {\n",
              "      border-color: transparent;\n",
              "      border-right-color: var(--fill-color);\n",
              "      border-bottom-color: var(--fill-color);\n",
              "    }\n",
              "    90% {\n",
              "      border-color: transparent;\n",
              "      border-bottom-color: var(--fill-color);\n",
              "    }\n",
              "  }\n",
              "</style>\n",
              "\n",
              "  <script>\n",
              "    async function quickchart(key) {\n",
              "      const quickchartButtonEl =\n",
              "        document.querySelector('#' + key + ' button');\n",
              "      quickchartButtonEl.disabled = true;  // To prevent multiple clicks.\n",
              "      quickchartButtonEl.classList.add('colab-df-spinner');\n",
              "      try {\n",
              "        const charts = await google.colab.kernel.invokeFunction(\n",
              "            'suggestCharts', [key], {});\n",
              "      } catch (error) {\n",
              "        console.error('Error during call to suggestCharts:', error);\n",
              "      }\n",
              "      quickchartButtonEl.classList.remove('colab-df-spinner');\n",
              "      quickchartButtonEl.classList.add('colab-df-quickchart-complete');\n",
              "    }\n",
              "    (() => {\n",
              "      let quickchartButtonEl =\n",
              "        document.querySelector('#df-33b81ff8-c2a9-454a-ad15-3f1cfb837371 button');\n",
              "      quickchartButtonEl.style.display =\n",
              "        google.colab.kernel.accessAllowed ? 'block' : 'none';\n",
              "    })();\n",
              "  </script>\n",
              "</div>\n",
              "    </div>\n",
              "  </div>\n"
            ]
          },
          "metadata": {},
          "execution_count": 10
        }
      ],
      "source": [
        "filtered_data.head()"
      ]
    },
    {
      "cell_type": "code",
      "execution_count": 11,
      "metadata": {
        "colab": {
          "base_uri": "https://localhost:8080/"
        },
        "id": "5U2LUX3acq4E",
        "outputId": "67f4a1f5-74ab-4b60-e505-860817ed5569"
      },
      "outputs": [
        {
          "output_type": "execute_result",
          "data": {
            "text/plain": [
              "Timedelta('0 days 00:05:49')"
            ]
          },
          "metadata": {},
          "execution_count": 11
        }
      ],
      "source": [
        "filtered_data.duration.max()"
      ]
    },
    {
      "cell_type": "code",
      "execution_count": 17,
      "metadata": {
        "colab": {
          "base_uri": "https://localhost:8080/"
        },
        "id": "TQSEyo1vc2Lr",
        "outputId": "3f3f7403-02f1-450c-d937-971c1c005d47"
      },
      "outputs": [
        {
          "output_type": "stream",
          "name": "stdout",
          "text": [
            "Б: . Меня зовут Юлия , компания Ростелеком. Звоню по поводу услуг связи для бизнеса. Согласны послушать? Займу буквально минуту.\n",
            "Б: . Меня зовут Юлия , компания Ростелеком. Звоню по поводу услуг связи для бизнеса. Согласны послушать? Займу буквально минуту.\n",
            "К: алло добрый день пришлось к сожалению переключиться на другую линию поэтому наш звонок прервался прошу прощения напомните пожалуйста о чем вы говорили а то меня это совсем с толку\n",
            "Б: . Я ничего не продаю и не рекламирую. Информация действительно будет полезной, расскажу подробнее?\n",
            "К: алло добрый день пришлось к сожалению переключиться на другую линию поэтому наш звонок прервался прошу прощения напомните пожалуйста о чем вы говорили а то меня это совсем с толку\n",
            "Б: . Я ничего не продаю и не рекламирую. Информация действительно будет полезной, расскажу подробнее?\n",
            "К: жду подробностей так продолжает\n",
            "Б:  что ещё раз что?\n",
            "К: жду подробностей так продолжает\n",
            "Б:  что ещё раз что?\n",
            "К: понимаю долго еще будут эти условия для меня\n",
            "Б: Оператор перезвонит вам в течение нескольких минут.\n",
            "К: понимаю долго еще будут эти условия для меня\n",
            "Б: Оператор перезвонит вам в течение нескольких минут.\n",
            "______________________________\n",
            "Б: . Меня зовут Юлия , компания Ростелеком. Звоню по поводу услуг связи для бизнеса. Согласны послушать? Займу буквально минуту.\n",
            "К: мне не интересно\n",
            "Б: . Я ничего не продаю и не рекламирую. Информация действительно будет полезной, расскажу подробнее?\n",
            "______________________________\n",
            "Б: . Меня зовут Юлия , компания Ростелеком. Звоню по поводу услуг связи для бизнеса. Согласны послушать? Займу буквально минуту.\n",
            "К: нет нет нет занято занято\n",
            "Б: . Я ничего не продаю и не рекламирую. Информация действительно будет полезной, расскажу подробнее?\n",
            "______________________________\n",
            "Б: . Меня зовут Юлия , компания Ростелеком. Звоню по поводу услуг связи для бизнеса. Согласны послушать? Займу буквально минуту.\n",
            "Б: . Меня зовут Юлия , компания Ростелеком. Звоню по поводу услуг связи для бизнеса. Согласны послушать? Займу буквально минуту.\n",
            "К: нет\n",
            "Б: . Я ничего не продаю и не рекламирую. Информация действительно будет полезной, расскажу подробнее?\n",
            "К: нет\n",
            "Б: . Я ничего не продаю и не рекламирую. Информация действительно будет полезной, расскажу подробнее?\n",
            "______________________________\n"
          ]
        }
      ],
      "source": [
        "for i in range(4):\n",
        "    print(data.iloc[[i]]['context'].values[0])\n",
        "    print('______________________________')"
      ]
    },
    {
      "cell_type": "code",
      "execution_count": 13,
      "metadata": {
        "colab": {
          "base_uri": "https://localhost:8080/",
          "height": 206
        },
        "id": "EquwhesCcIoz",
        "outputId": "853d1113-f024-4b50-bb4b-6baf8d894229"
      },
      "outputs": [
        {
          "output_type": "execute_result",
          "data": {
            "text/plain": [
              "       type   client_id        date      time               duration  \\\n",
              "39064  ДС_2       39065  14.11.2023  06:50:10 0 days 00:00:39.826511   \n",
              "39065  ДС_2       39066  14.11.2023  03:00:13 0 days 00:01:09.150857   \n",
              "39066  ДС_2       39067  14.11.2023  03:09:38 0 days 00:01:04.115712   \n",
              "39067  ДС_2       39068  14.11.2023  03:23:10 0 days 00:00:36.604845   \n",
              "39068  ДС_2       39069  14.11.2023  06:06:36 0 days 00:00:57.692923   \n",
              "\n",
              "                                                 context  \n",
              "39064  Б: {/storage/scenario_prerecords/scenario_1_98...  \n",
              "39065  Б: {/storage/scenario_prerecords/scenario_1_98...  \n",
              "39066  Б: {/storage/scenario_prerecords/scenario_1_98...  \n",
              "39067  Б: {/storage/scenario_prerecords/scenario_1_98...  \n",
              "39068  Б: {/storage/scenario_prerecords/scenario_1_98...  "
            ],
            "text/html": [
              "\n",
              "  <div id=\"df-1b6663c0-f896-45b1-8e42-174756568c3c\" class=\"colab-df-container\">\n",
              "    <div>\n",
              "<style scoped>\n",
              "    .dataframe tbody tr th:only-of-type {\n",
              "        vertical-align: middle;\n",
              "    }\n",
              "\n",
              "    .dataframe tbody tr th {\n",
              "        vertical-align: top;\n",
              "    }\n",
              "\n",
              "    .dataframe thead th {\n",
              "        text-align: right;\n",
              "    }\n",
              "</style>\n",
              "<table border=\"1\" class=\"dataframe\">\n",
              "  <thead>\n",
              "    <tr style=\"text-align: right;\">\n",
              "      <th></th>\n",
              "      <th>type</th>\n",
              "      <th>client_id</th>\n",
              "      <th>date</th>\n",
              "      <th>time</th>\n",
              "      <th>duration</th>\n",
              "      <th>context</th>\n",
              "    </tr>\n",
              "  </thead>\n",
              "  <tbody>\n",
              "    <tr>\n",
              "      <th>39064</th>\n",
              "      <td>ДС_2</td>\n",
              "      <td>39065</td>\n",
              "      <td>14.11.2023</td>\n",
              "      <td>06:50:10</td>\n",
              "      <td>0 days 00:00:39.826511</td>\n",
              "      <td>Б: {/storage/scenario_prerecords/scenario_1_98...</td>\n",
              "    </tr>\n",
              "    <tr>\n",
              "      <th>39065</th>\n",
              "      <td>ДС_2</td>\n",
              "      <td>39066</td>\n",
              "      <td>14.11.2023</td>\n",
              "      <td>03:00:13</td>\n",
              "      <td>0 days 00:01:09.150857</td>\n",
              "      <td>Б: {/storage/scenario_prerecords/scenario_1_98...</td>\n",
              "    </tr>\n",
              "    <tr>\n",
              "      <th>39066</th>\n",
              "      <td>ДС_2</td>\n",
              "      <td>39067</td>\n",
              "      <td>14.11.2023</td>\n",
              "      <td>03:09:38</td>\n",
              "      <td>0 days 00:01:04.115712</td>\n",
              "      <td>Б: {/storage/scenario_prerecords/scenario_1_98...</td>\n",
              "    </tr>\n",
              "    <tr>\n",
              "      <th>39067</th>\n",
              "      <td>ДС_2</td>\n",
              "      <td>39068</td>\n",
              "      <td>14.11.2023</td>\n",
              "      <td>03:23:10</td>\n",
              "      <td>0 days 00:00:36.604845</td>\n",
              "      <td>Б: {/storage/scenario_prerecords/scenario_1_98...</td>\n",
              "    </tr>\n",
              "    <tr>\n",
              "      <th>39068</th>\n",
              "      <td>ДС_2</td>\n",
              "      <td>39069</td>\n",
              "      <td>14.11.2023</td>\n",
              "      <td>06:06:36</td>\n",
              "      <td>0 days 00:00:57.692923</td>\n",
              "      <td>Б: {/storage/scenario_prerecords/scenario_1_98...</td>\n",
              "    </tr>\n",
              "  </tbody>\n",
              "</table>\n",
              "</div>\n",
              "    <div class=\"colab-df-buttons\">\n",
              "\n",
              "  <div class=\"colab-df-container\">\n",
              "    <button class=\"colab-df-convert\" onclick=\"convertToInteractive('df-1b6663c0-f896-45b1-8e42-174756568c3c')\"\n",
              "            title=\"Convert this dataframe to an interactive table.\"\n",
              "            style=\"display:none;\">\n",
              "\n",
              "  <svg xmlns=\"http://www.w3.org/2000/svg\" height=\"24px\" viewBox=\"0 -960 960 960\">\n",
              "    <path d=\"M120-120v-720h720v720H120Zm60-500h600v-160H180v160Zm220 220h160v-160H400v160Zm0 220h160v-160H400v160ZM180-400h160v-160H180v160Zm440 0h160v-160H620v160ZM180-180h160v-160H180v160Zm440 0h160v-160H620v160Z\"/>\n",
              "  </svg>\n",
              "    </button>\n",
              "\n",
              "  <style>\n",
              "    .colab-df-container {\n",
              "      display:flex;\n",
              "      gap: 12px;\n",
              "    }\n",
              "\n",
              "    .colab-df-convert {\n",
              "      background-color: #E8F0FE;\n",
              "      border: none;\n",
              "      border-radius: 50%;\n",
              "      cursor: pointer;\n",
              "      display: none;\n",
              "      fill: #1967D2;\n",
              "      height: 32px;\n",
              "      padding: 0 0 0 0;\n",
              "      width: 32px;\n",
              "    }\n",
              "\n",
              "    .colab-df-convert:hover {\n",
              "      background-color: #E2EBFA;\n",
              "      box-shadow: 0px 1px 2px rgba(60, 64, 67, 0.3), 0px 1px 3px 1px rgba(60, 64, 67, 0.15);\n",
              "      fill: #174EA6;\n",
              "    }\n",
              "\n",
              "    .colab-df-buttons div {\n",
              "      margin-bottom: 4px;\n",
              "    }\n",
              "\n",
              "    [theme=dark] .colab-df-convert {\n",
              "      background-color: #3B4455;\n",
              "      fill: #D2E3FC;\n",
              "    }\n",
              "\n",
              "    [theme=dark] .colab-df-convert:hover {\n",
              "      background-color: #434B5C;\n",
              "      box-shadow: 0px 1px 3px 1px rgba(0, 0, 0, 0.15);\n",
              "      filter: drop-shadow(0px 1px 2px rgba(0, 0, 0, 0.3));\n",
              "      fill: #FFFFFF;\n",
              "    }\n",
              "  </style>\n",
              "\n",
              "    <script>\n",
              "      const buttonEl =\n",
              "        document.querySelector('#df-1b6663c0-f896-45b1-8e42-174756568c3c button.colab-df-convert');\n",
              "      buttonEl.style.display =\n",
              "        google.colab.kernel.accessAllowed ? 'block' : 'none';\n",
              "\n",
              "      async function convertToInteractive(key) {\n",
              "        const element = document.querySelector('#df-1b6663c0-f896-45b1-8e42-174756568c3c');\n",
              "        const dataTable =\n",
              "          await google.colab.kernel.invokeFunction('convertToInteractive',\n",
              "                                                    [key], {});\n",
              "        if (!dataTable) return;\n",
              "\n",
              "        const docLinkHtml = 'Like what you see? Visit the ' +\n",
              "          '<a target=\"_blank\" href=https://colab.research.google.com/notebooks/data_table.ipynb>data table notebook</a>'\n",
              "          + ' to learn more about interactive tables.';\n",
              "        element.innerHTML = '';\n",
              "        dataTable['output_type'] = 'display_data';\n",
              "        await google.colab.output.renderOutput(dataTable, element);\n",
              "        const docLink = document.createElement('div');\n",
              "        docLink.innerHTML = docLinkHtml;\n",
              "        element.appendChild(docLink);\n",
              "      }\n",
              "    </script>\n",
              "  </div>\n",
              "\n",
              "\n",
              "<div id=\"df-e7866b0d-96b0-48d7-a67c-e58977101b23\">\n",
              "  <button class=\"colab-df-quickchart\" onclick=\"quickchart('df-e7866b0d-96b0-48d7-a67c-e58977101b23')\"\n",
              "            title=\"Suggest charts\"\n",
              "            style=\"display:none;\">\n",
              "\n",
              "<svg xmlns=\"http://www.w3.org/2000/svg\" height=\"24px\"viewBox=\"0 0 24 24\"\n",
              "     width=\"24px\">\n",
              "    <g>\n",
              "        <path d=\"M19 3H5c-1.1 0-2 .9-2 2v14c0 1.1.9 2 2 2h14c1.1 0 2-.9 2-2V5c0-1.1-.9-2-2-2zM9 17H7v-7h2v7zm4 0h-2V7h2v10zm4 0h-2v-4h2v4z\"/>\n",
              "    </g>\n",
              "</svg>\n",
              "  </button>\n",
              "\n",
              "<style>\n",
              "  .colab-df-quickchart {\n",
              "      --bg-color: #E8F0FE;\n",
              "      --fill-color: #1967D2;\n",
              "      --hover-bg-color: #E2EBFA;\n",
              "      --hover-fill-color: #174EA6;\n",
              "      --disabled-fill-color: #AAA;\n",
              "      --disabled-bg-color: #DDD;\n",
              "  }\n",
              "\n",
              "  [theme=dark] .colab-df-quickchart {\n",
              "      --bg-color: #3B4455;\n",
              "      --fill-color: #D2E3FC;\n",
              "      --hover-bg-color: #434B5C;\n",
              "      --hover-fill-color: #FFFFFF;\n",
              "      --disabled-bg-color: #3B4455;\n",
              "      --disabled-fill-color: #666;\n",
              "  }\n",
              "\n",
              "  .colab-df-quickchart {\n",
              "    background-color: var(--bg-color);\n",
              "    border: none;\n",
              "    border-radius: 50%;\n",
              "    cursor: pointer;\n",
              "    display: none;\n",
              "    fill: var(--fill-color);\n",
              "    height: 32px;\n",
              "    padding: 0;\n",
              "    width: 32px;\n",
              "  }\n",
              "\n",
              "  .colab-df-quickchart:hover {\n",
              "    background-color: var(--hover-bg-color);\n",
              "    box-shadow: 0 1px 2px rgba(60, 64, 67, 0.3), 0 1px 3px 1px rgba(60, 64, 67, 0.15);\n",
              "    fill: var(--button-hover-fill-color);\n",
              "  }\n",
              "\n",
              "  .colab-df-quickchart-complete:disabled,\n",
              "  .colab-df-quickchart-complete:disabled:hover {\n",
              "    background-color: var(--disabled-bg-color);\n",
              "    fill: var(--disabled-fill-color);\n",
              "    box-shadow: none;\n",
              "  }\n",
              "\n",
              "  .colab-df-spinner {\n",
              "    border: 2px solid var(--fill-color);\n",
              "    border-color: transparent;\n",
              "    border-bottom-color: var(--fill-color);\n",
              "    animation:\n",
              "      spin 1s steps(1) infinite;\n",
              "  }\n",
              "\n",
              "  @keyframes spin {\n",
              "    0% {\n",
              "      border-color: transparent;\n",
              "      border-bottom-color: var(--fill-color);\n",
              "      border-left-color: var(--fill-color);\n",
              "    }\n",
              "    20% {\n",
              "      border-color: transparent;\n",
              "      border-left-color: var(--fill-color);\n",
              "      border-top-color: var(--fill-color);\n",
              "    }\n",
              "    30% {\n",
              "      border-color: transparent;\n",
              "      border-left-color: var(--fill-color);\n",
              "      border-top-color: var(--fill-color);\n",
              "      border-right-color: var(--fill-color);\n",
              "    }\n",
              "    40% {\n",
              "      border-color: transparent;\n",
              "      border-right-color: var(--fill-color);\n",
              "      border-top-color: var(--fill-color);\n",
              "    }\n",
              "    60% {\n",
              "      border-color: transparent;\n",
              "      border-right-color: var(--fill-color);\n",
              "    }\n",
              "    80% {\n",
              "      border-color: transparent;\n",
              "      border-right-color: var(--fill-color);\n",
              "      border-bottom-color: var(--fill-color);\n",
              "    }\n",
              "    90% {\n",
              "      border-color: transparent;\n",
              "      border-bottom-color: var(--fill-color);\n",
              "    }\n",
              "  }\n",
              "</style>\n",
              "\n",
              "  <script>\n",
              "    async function quickchart(key) {\n",
              "      const quickchartButtonEl =\n",
              "        document.querySelector('#' + key + ' button');\n",
              "      quickchartButtonEl.disabled = true;  // To prevent multiple clicks.\n",
              "      quickchartButtonEl.classList.add('colab-df-spinner');\n",
              "      try {\n",
              "        const charts = await google.colab.kernel.invokeFunction(\n",
              "            'suggestCharts', [key], {});\n",
              "      } catch (error) {\n",
              "        console.error('Error during call to suggestCharts:', error);\n",
              "      }\n",
              "      quickchartButtonEl.classList.remove('colab-df-spinner');\n",
              "      quickchartButtonEl.classList.add('colab-df-quickchart-complete');\n",
              "    }\n",
              "    (() => {\n",
              "      let quickchartButtonEl =\n",
              "        document.querySelector('#df-e7866b0d-96b0-48d7-a67c-e58977101b23 button');\n",
              "      quickchartButtonEl.style.display =\n",
              "        google.colab.kernel.accessAllowed ? 'block' : 'none';\n",
              "    })();\n",
              "  </script>\n",
              "</div>\n",
              "    </div>\n",
              "  </div>\n"
            ]
          },
          "metadata": {},
          "execution_count": 13
        }
      ],
      "source": [
        "data.tail()"
      ]
    },
    {
      "cell_type": "code",
      "execution_count": 14,
      "metadata": {
        "id": "3vILAFUoa7jT"
      },
      "outputs": [],
      "source": [
        "bad_data = data[data['context'].str.contains('Б: {/storage/scenario_prerecords/scenario')]"
      ]
    },
    {
      "cell_type": "code",
      "execution_count": 15,
      "metadata": {
        "colab": {
          "base_uri": "https://localhost:8080/"
        },
        "id": "yhgXmr2JZiBb",
        "outputId": "bbf1076b-bf1d-47df-9686-f72b8227cf30"
      },
      "outputs": [
        {
          "output_type": "execute_result",
          "data": {
            "text/plain": [
              "type          20552\n",
              " client_id    20552\n",
              "date          20552\n",
              "time          20552\n",
              "duration      20552\n",
              "context       20552\n",
              "dtype: int64"
            ]
          },
          "metadata": {},
          "execution_count": 15
        }
      ],
      "source": [
        "bad_data.count()"
      ]
    },
    {
      "cell_type": "code",
      "execution_count": 16,
      "metadata": {
        "colab": {
          "base_uri": "https://localhost:8080/"
        },
        "id": "wfPbQgMhedSV",
        "outputId": "11b1a051-dc13-43d7-deda-17d48b16045a"
      },
      "outputs": [
        {
          "output_type": "execute_result",
          "data": {
            "text/plain": [
              "0        [Б, :,  , .,  , М, е, н, я,  , з, о, в, у, т, ...\n",
              "1        [Б, :,  , .,  , М, е, н, я,  , з, о, в, у, т, ...\n",
              "2        [Б, :,  , .,  , М, е, н, я,  , з, о, в, у, т, ...\n",
              "3        [Б, :,  , .,  , М, е, н, я,  , з, о, в, у, т, ...\n",
              "4        [Б, :,  , .,  , М, е, н, я,  , з, о, в, у, т, ...\n",
              "                               ...                        \n",
              "39064    [Б, :,  , {, /, s, t, o, r, a, g, e, /, s, c, ...\n",
              "39065    [Б, :,  , {, /, s, t, o, r, a, g, e, /, s, c, ...\n",
              "39066    [Б, :,  , {, /, s, t, o, r, a, g, e, /, s, c, ...\n",
              "39067    [Б, :,  , {, /, s, t, o, r, a, g, e, /, s, c, ...\n",
              "39068    [Б, :,  , {, /, s, t, o, r, a, g, e, /, s, c, ...\n",
              "Name: context, Length: 39069, dtype: object"
            ]
          },
          "metadata": {},
          "execution_count": 16
        }
      ],
      "source": []
    },
    {
      "cell_type": "code",
      "source": [],
      "metadata": {
        "id": "ss1c6ToO9rgU"
      },
      "execution_count": null,
      "outputs": []
    },
    {
      "cell_type": "code",
      "execution_count": 1,
      "metadata": {
        "id": "xl3owhuaca6v"
      },
      "outputs": [],
      "source": [
        "import nltk\n",
        "from nltk.corpus import stopwords\n",
        "from pymystem3 import Mystem\n",
        "from string import punctuation\n",
        "\n",
        "import numpy as np\n",
        "import pandas as pd"
      ]
    },
    {
      "cell_type": "code",
      "source": [
        "data = pd.read_excel('/content/Общий датасет.xlsx')"
      ],
      "metadata": {
        "id": "nAs_XstmchbL"
      },
      "execution_count": 2,
      "outputs": []
    },
    {
      "cell_type": "code",
      "source": [
        "data.columns = ['type', ' client_id', 'date', 'time', 'duration', 'context']"
      ],
      "metadata": {
        "id": "XD8nEv7io8BN"
      },
      "execution_count": 3,
      "outputs": []
    },
    {
      "cell_type": "code",
      "source": [
        "data['context'] = data['context'].str.replace(r'\\{.*\\}', '', regex=True)"
      ],
      "metadata": {
        "id": "MdWOUxOtsg1a"
      },
      "execution_count": 4,
      "outputs": []
    },
    {
      "cell_type": "code",
      "source": [
        "def take_user_part(x):\n",
        "    i = 0\n",
        "    user_array = []\n",
        "    x_ = x.split()\n",
        "    while i < len(x_):\n",
        "        if x_[i] == 'К:' or x_[i] == '/nК:':\n",
        "            i +=1\n",
        "            user_array.append(x_[i].lower())\n",
        "            while i < len(x_)-1 and x_[i+1] != '/nБ:' and x_[i+1] != 'Б:' :\n",
        "                i += 1\n",
        "                user_array.append(x_[i].lower())\n",
        "        i +=1\n",
        "    return ' '.join(user_array)"
      ],
      "metadata": {
        "id": "hNqKgloqdCoH"
      },
      "execution_count": 5,
      "outputs": []
    },
    {
      "cell_type": "code",
      "source": [
        "def take_robot_part(x):\n",
        "    i = 0\n",
        "    user_array = []\n",
        "    x_ = x.split()\n",
        "    while i < len(x_):\n",
        "        if x_[i] == 'Б:' or x_[i] == '/nБ:':\n",
        "            i +=1\n",
        "            user_array.append(x_[i].lower())\n",
        "            while i < len(x_)-1 and x_[i+1] != '/nК:' and x_[i+1] != 'К:' :\n",
        "                i += 1\n",
        "                user_array.append(x_[i].lower())\n",
        "        i +=1\n",
        "    return ' '.join(user_array)"
      ],
      "metadata": {
        "id": "1sBk6DCudSrd"
      },
      "execution_count": 6,
      "outputs": []
    },
    {
      "cell_type": "code",
      "source": [
        "nltk.download(\"stopwords\")\n",
        "mystem = Mystem()\n",
        "russian_stopwords = stopwords.words(\"russian\")\n",
        "\n",
        "def preprocess_text(text):\n",
        "    tokens = mystem.lemmatize(text.lower())\n",
        "    tokens = [token for token in tokens if (token in ['не', 'нет', 'да', 'ни', 'нельзя', 'всегда', 'конечно'])\\\n",
        "              or (token not in russian_stopwords\\\n",
        "              and token != \" \" \\\n",
        "              and token.strip() not in punctuation)]\n",
        "\n",
        "    text = \" \".join(tokens)\n",
        "\n",
        "    return text\n"
      ],
      "metadata": {
        "colab": {
          "base_uri": "https://localhost:8080/"
        },
        "id": "InBPwSARdJ1v",
        "outputId": "1d3a05a3-8206-43ed-be3c-1283f4fff7e3"
      },
      "execution_count": 7,
      "outputs": [
        {
          "output_type": "stream",
          "name": "stderr",
          "text": [
            "[nltk_data] Downloading package stopwords to /root/nltk_data...\n",
            "[nltk_data]   Package stopwords is already up-to-date!\n"
          ]
        }
      ]
    },
    {
      "cell_type": "code",
      "source": [
        "data['user_part'] = data['context'].apply(take_user_part)"
      ],
      "metadata": {
        "id": "atSKdibvdMrz"
      },
      "execution_count": 8,
      "outputs": []
    },
    {
      "cell_type": "code",
      "source": [
        "data['robot_part'] = data['context'].apply(take_robot_part)"
      ],
      "metadata": {
        "id": "z2GkMiOEdVLz"
      },
      "execution_count": 9,
      "outputs": []
    },
    {
      "cell_type": "code",
      "source": [
        "data['user_part'] = data['user_part'].apply(preprocess_text)"
      ],
      "metadata": {
        "id": "RKX7XQs_uO4N"
      },
      "execution_count": 10,
      "outputs": []
    },
    {
      "cell_type": "code",
      "source": [
        "data['user_part'].head(3)"
      ],
      "metadata": {
        "colab": {
          "base_uri": "https://localhost:8080/"
        },
        "id": "jxnwKxEy-szX",
        "outputId": "87cb5b4e-4ca9-43bc-e6cf-b11be03f2ed2"
      },
      "execution_count": 11,
      "outputs": [
        {
          "output_type": "execute_result",
          "data": {
            "text/plain": [
              "0    але добрый день приходиться сожаление переключ...\n",
              "1                                         не интересно\n",
              "2                        нет нет нет занимать занимать\n",
              "Name: user_part, dtype: object"
            ]
          },
          "metadata": {},
          "execution_count": 11
        }
      ]
    },
    {
      "cell_type": "code",
      "source": [
        "!pip install navec\n",
        "from navec import Navec"
      ],
      "metadata": {
        "colab": {
          "base_uri": "https://localhost:8080/"
        },
        "id": "Nz1DFGqk6TMl",
        "outputId": "9d599bd5-fe93-493c-a0a1-59861b87225a"
      },
      "execution_count": 17,
      "outputs": [
        {
          "output_type": "stream",
          "name": "stdout",
          "text": [
            "Requirement already satisfied: navec in /usr/local/lib/python3.10/dist-packages (0.10.0)\n",
            "Requirement already satisfied: numpy in /usr/local/lib/python3.10/dist-packages (from navec) (1.23.5)\n",
            "--2023-11-23 21:47:48--  https://storage.yandexcloud.net/natasha-navec/packs/hudlit_12B_500K_300d_100q.tar\n",
            "Resolving storage.yandexcloud.net (storage.yandexcloud.net)... 213.180.193.243, 2a02:6b8::1d9\n",
            "Connecting to storage.yandexcloud.net (storage.yandexcloud.net)|213.180.193.243|:443... connected.\n",
            "HTTP request sent, awaiting response... 404 Not Found\n",
            "2023-11-23 21:47:48 ERROR 404: Not Found.\n",
            "\n"
          ]
        }
      ]
    },
    {
      "cell_type": "code",
      "source": [
        "!wget https://storage.yandexcloud.net/natasha-navec/packs/navec_hudlit_v1_12B_500K_300d_100q.tar"
      ],
      "metadata": {
        "colab": {
          "base_uri": "https://localhost:8080/"
        },
        "id": "R-LkjWGEKN0Q",
        "outputId": "5a7fa4bb-c8b4-49d8-e7e7-e9c8ebbcf74a"
      },
      "execution_count": 19,
      "outputs": [
        {
          "output_type": "stream",
          "name": "stdout",
          "text": [
            "--2023-11-23 21:49:39--  https://storage.yandexcloud.net/natasha-navec/packs/navec_hudlit_v1_12B_500K_300d_100q.tar\n",
            "Resolving storage.yandexcloud.net (storage.yandexcloud.net)... 213.180.193.243, 2a02:6b8::1d9\n",
            "Connecting to storage.yandexcloud.net (storage.yandexcloud.net)|213.180.193.243|:443... connected.\n",
            "HTTP request sent, awaiting response... 200 OK\n",
            "Length: 53012480 (51M) [application/x-tar]\n",
            "Saving to: ‘navec_hudlit_v1_12B_500K_300d_100q.tar’\n",
            "\n",
            "navec_hudlit_v1_12B 100%[===================>]  50.56M  21.1MB/s    in 2.4s    \n",
            "\n",
            "2023-11-23 21:49:42 (21.1 MB/s) - ‘navec_hudlit_v1_12B_500K_300d_100q.tar’ saved [53012480/53012480]\n",
            "\n"
          ]
        }
      ]
    },
    {
      "cell_type": "code",
      "source": [
        "path = '/content/navec_hudlit_v1_12B_500K_300d_100q.tar'"
      ],
      "metadata": {
        "id": "_Gz0ljGSJvR_"
      },
      "execution_count": 20,
      "outputs": []
    },
    {
      "cell_type": "code",
      "source": [
        "navec = Navec.load(path)"
      ],
      "metadata": {
        "id": "0nf5hxRK7fwa"
      },
      "execution_count": 21,
      "outputs": []
    },
    {
      "cell_type": "code",
      "source": [
        "from tqdm import tqdm"
      ],
      "metadata": {
        "id": "5pUrL7fhIksK"
      },
      "execution_count": 22,
      "outputs": []
    },
    {
      "cell_type": "code",
      "source": [
        "def get_sentence_embedding(sentence):\n",
        "    word_vectors = []\n",
        "    words = sentence.split()\n",
        "    for word in tqdm(words):\n",
        "      if word in navec:\n",
        "        word_vectors = [navec[word]]\n",
        "    sentence_embedding = np.mean(word_vectors, axis=0)\n",
        "    return sentence_embedding"
      ],
      "metadata": {
        "id": "so0U9zlvAVk3"
      },
      "execution_count": 28,
      "outputs": []
    },
    {
      "cell_type": "code",
      "source": [
        "print(data['user_part'][21444])"
      ],
      "metadata": {
        "colab": {
          "base_uri": "https://localhost:8080/"
        },
        "id": "xKTrtU-7Fl1F",
        "outputId": "81aed287-ec5a-4f40-c09b-4289f6dcc3fc"
      },
      "execution_count": 25,
      "outputs": [
        {
          "output_type": "stream",
          "name": "stdout",
          "text": [
            "да не звонить не ничто предлагать спасибо рита\n"
          ]
        }
      ]
    },
    {
      "cell_type": "code",
      "source": [
        "data['new_user_part'] = data['user_part'].str.replace(r'поняла извините за беспокойство до свидания ', '', regex=True)"
      ],
      "metadata": {
        "id": "KbPDtiPUB4s9"
      },
      "execution_count": 145,
      "outputs": []
    },
    {
      "cell_type": "code",
      "source": [
        "data['new_user_part'] = data['user_part'][:1000]"
      ],
      "metadata": {
        "id": "S1RG1Kb4S-Et"
      },
      "execution_count": 152,
      "outputs": []
    },
    {
      "cell_type": "code",
      "source": [
        "print(data['new_user_part'][1])"
      ],
      "metadata": {
        "colab": {
          "base_uri": "https://localhost:8080/"
        },
        "id": "kQ3sUR9jDBEE",
        "outputId": "53d6c09e-2e5a-451c-9d80-f0039084c2cd"
      },
      "execution_count": 153,
      "outputs": [
        {
          "output_type": "stream",
          "name": "stdout",
          "text": [
            "не интересно\n"
          ]
        }
      ]
    },
    {
      "cell_type": "code",
      "source": [
        "data['embeddings'] = data['new_user_part'][:1000].apply(get_sentence_embedding)"
      ],
      "metadata": {
        "id": "HMATILfdAaou"
      },
      "execution_count": null,
      "outputs": []
    },
    {
      "cell_type": "code",
      "source": [
        "data.head(1)"
      ],
      "metadata": {
        "colab": {
          "base_uri": "https://localhost:8080/",
          "height": 150
        },
        "id": "jqSNXctMLR1c",
        "outputId": "c3c486e4-1f77-426c-a107-fc2164228e8b"
      },
      "execution_count": 156,
      "outputs": [
        {
          "output_type": "execute_result",
          "data": {
            "text/plain": [
              "   type   client_id        date      time  duration  \\\n",
              "0  ДС_1           1  10.02.2023  15:03:44  00:01:13   \n",
              "\n",
              "                                             context  \\\n",
              "0  Б: . Меня зовут Юлия , компания Ростелеком. Зв...   \n",
              "\n",
              "                                           user_part  \\\n",
              "0  але добрый день приходиться сожаление переключ...   \n",
              "\n",
              "                                          robot_part  \\\n",
              "0  . меня зовут юлия , компания ростелеком. звоню...   \n",
              "\n",
              "                                          embeddings  \\\n",
              "0  [-0.1538672, 0.18462132, 0.00536857, 0.2925444...   \n",
              "\n",
              "                                       new_user_part  \n",
              "0  але добрый день приходиться сожаление переключ...  "
            ],
            "text/html": [
              "\n",
              "  <div id=\"df-4cd1adc6-8bfa-487c-b93e-901bb3392988\" class=\"colab-df-container\">\n",
              "    <div>\n",
              "<style scoped>\n",
              "    .dataframe tbody tr th:only-of-type {\n",
              "        vertical-align: middle;\n",
              "    }\n",
              "\n",
              "    .dataframe tbody tr th {\n",
              "        vertical-align: top;\n",
              "    }\n",
              "\n",
              "    .dataframe thead th {\n",
              "        text-align: right;\n",
              "    }\n",
              "</style>\n",
              "<table border=\"1\" class=\"dataframe\">\n",
              "  <thead>\n",
              "    <tr style=\"text-align: right;\">\n",
              "      <th></th>\n",
              "      <th>type</th>\n",
              "      <th>client_id</th>\n",
              "      <th>date</th>\n",
              "      <th>time</th>\n",
              "      <th>duration</th>\n",
              "      <th>context</th>\n",
              "      <th>user_part</th>\n",
              "      <th>robot_part</th>\n",
              "      <th>embeddings</th>\n",
              "      <th>new_user_part</th>\n",
              "    </tr>\n",
              "  </thead>\n",
              "  <tbody>\n",
              "    <tr>\n",
              "      <th>0</th>\n",
              "      <td>ДС_1</td>\n",
              "      <td>1</td>\n",
              "      <td>10.02.2023</td>\n",
              "      <td>15:03:44</td>\n",
              "      <td>00:01:13</td>\n",
              "      <td>Б: . Меня зовут Юлия , компания Ростелеком. Зв...</td>\n",
              "      <td>але добрый день приходиться сожаление переключ...</td>\n",
              "      <td>. меня зовут юлия , компания ростелеком. звоню...</td>\n",
              "      <td>[-0.1538672, 0.18462132, 0.00536857, 0.2925444...</td>\n",
              "      <td>але добрый день приходиться сожаление переключ...</td>\n",
              "    </tr>\n",
              "  </tbody>\n",
              "</table>\n",
              "</div>\n",
              "    <div class=\"colab-df-buttons\">\n",
              "\n",
              "  <div class=\"colab-df-container\">\n",
              "    <button class=\"colab-df-convert\" onclick=\"convertToInteractive('df-4cd1adc6-8bfa-487c-b93e-901bb3392988')\"\n",
              "            title=\"Convert this dataframe to an interactive table.\"\n",
              "            style=\"display:none;\">\n",
              "\n",
              "  <svg xmlns=\"http://www.w3.org/2000/svg\" height=\"24px\" viewBox=\"0 -960 960 960\">\n",
              "    <path d=\"M120-120v-720h720v720H120Zm60-500h600v-160H180v160Zm220 220h160v-160H400v160Zm0 220h160v-160H400v160ZM180-400h160v-160H180v160Zm440 0h160v-160H620v160ZM180-180h160v-160H180v160Zm440 0h160v-160H620v160Z\"/>\n",
              "  </svg>\n",
              "    </button>\n",
              "\n",
              "  <style>\n",
              "    .colab-df-container {\n",
              "      display:flex;\n",
              "      gap: 12px;\n",
              "    }\n",
              "\n",
              "    .colab-df-convert {\n",
              "      background-color: #E8F0FE;\n",
              "      border: none;\n",
              "      border-radius: 50%;\n",
              "      cursor: pointer;\n",
              "      display: none;\n",
              "      fill: #1967D2;\n",
              "      height: 32px;\n",
              "      padding: 0 0 0 0;\n",
              "      width: 32px;\n",
              "    }\n",
              "\n",
              "    .colab-df-convert:hover {\n",
              "      background-color: #E2EBFA;\n",
              "      box-shadow: 0px 1px 2px rgba(60, 64, 67, 0.3), 0px 1px 3px 1px rgba(60, 64, 67, 0.15);\n",
              "      fill: #174EA6;\n",
              "    }\n",
              "\n",
              "    .colab-df-buttons div {\n",
              "      margin-bottom: 4px;\n",
              "    }\n",
              "\n",
              "    [theme=dark] .colab-df-convert {\n",
              "      background-color: #3B4455;\n",
              "      fill: #D2E3FC;\n",
              "    }\n",
              "\n",
              "    [theme=dark] .colab-df-convert:hover {\n",
              "      background-color: #434B5C;\n",
              "      box-shadow: 0px 1px 3px 1px rgba(0, 0, 0, 0.15);\n",
              "      filter: drop-shadow(0px 1px 2px rgba(0, 0, 0, 0.3));\n",
              "      fill: #FFFFFF;\n",
              "    }\n",
              "  </style>\n",
              "\n",
              "    <script>\n",
              "      const buttonEl =\n",
              "        document.querySelector('#df-4cd1adc6-8bfa-487c-b93e-901bb3392988 button.colab-df-convert');\n",
              "      buttonEl.style.display =\n",
              "        google.colab.kernel.accessAllowed ? 'block' : 'none';\n",
              "\n",
              "      async function convertToInteractive(key) {\n",
              "        const element = document.querySelector('#df-4cd1adc6-8bfa-487c-b93e-901bb3392988');\n",
              "        const dataTable =\n",
              "          await google.colab.kernel.invokeFunction('convertToInteractive',\n",
              "                                                    [key], {});\n",
              "        if (!dataTable) return;\n",
              "\n",
              "        const docLinkHtml = 'Like what you see? Visit the ' +\n",
              "          '<a target=\"_blank\" href=https://colab.research.google.com/notebooks/data_table.ipynb>data table notebook</a>'\n",
              "          + ' to learn more about interactive tables.';\n",
              "        element.innerHTML = '';\n",
              "        dataTable['output_type'] = 'display_data';\n",
              "        await google.colab.output.renderOutput(dataTable, element);\n",
              "        const docLink = document.createElement('div');\n",
              "        docLink.innerHTML = docLinkHtml;\n",
              "        element.appendChild(docLink);\n",
              "      }\n",
              "    </script>\n",
              "  </div>\n",
              "\n",
              "    </div>\n",
              "  </div>\n"
            ]
          },
          "metadata": {},
          "execution_count": 156
        }
      ]
    },
    {
      "cell_type": "code",
      "source": [
        "data.embeddings.shape"
      ],
      "metadata": {
        "colab": {
          "base_uri": "https://localhost:8080/"
        },
        "id": "1qKH9hRVNnxV",
        "outputId": "11bd25b5-c50f-468a-cd32-a6f8c378cd42"
      },
      "execution_count": 157,
      "outputs": [
        {
          "output_type": "execute_result",
          "data": {
            "text/plain": [
              "(39069,)"
            ]
          },
          "metadata": {},
          "execution_count": 157
        }
      ]
    },
    {
      "cell_type": "code",
      "source": [
        "from sklearn.feature_extraction.text import TfidfVectorizer\n",
        "from sklearn.cluster import KMeans\n",
        "from sklearn.metrics import silhouette_score"
      ],
      "metadata": {
        "id": "H1zlKqqPd7ND"
      },
      "execution_count": 158,
      "outputs": []
    },
    {
      "cell_type": "code",
      "source": [
        "num_clusters = 8"
      ],
      "metadata": {
        "id": "l8wRElxbquYf"
      },
      "execution_count": 160,
      "outputs": []
    },
    {
      "cell_type": "code",
      "source": [
        "kmeans_model = KMeans(n_clusters=num_clusters, random_state=42)"
      ],
      "metadata": {
        "id": "5oBxvrhmOU41"
      },
      "execution_count": 161,
      "outputs": []
    },
    {
      "cell_type": "code",
      "source": [
        "loo = np.vstack([np.array(x).astype(float) if np.array(x).shape == (300,) else np.zeros(300) for x in data.embeddings])"
      ],
      "metadata": {
        "id": "_LBtyvKTPGSK"
      },
      "execution_count": 162,
      "outputs": []
    },
    {
      "cell_type": "code",
      "source": [
        "loo.shape"
      ],
      "metadata": {
        "colab": {
          "base_uri": "https://localhost:8080/"
        },
        "id": "nKfG1wsWQMmU",
        "outputId": "523d1c30-4664-49ff-e385-311e2f5d2032"
      },
      "execution_count": 163,
      "outputs": [
        {
          "output_type": "execute_result",
          "data": {
            "text/plain": [
              "(39069, 300)"
            ]
          },
          "metadata": {},
          "execution_count": 163
        }
      ]
    },
    {
      "cell_type": "code",
      "source": [
        "kmeans_model.fit(loo)"
      ],
      "metadata": {
        "colab": {
          "base_uri": "https://localhost:8080/",
          "height": 130
        },
        "id": "cmjQ1csYOYcr",
        "outputId": "0386bd53-c42a-4585-9d65-b3427c79a1c3"
      },
      "execution_count": 164,
      "outputs": [
        {
          "output_type": "stream",
          "name": "stderr",
          "text": [
            "/usr/local/lib/python3.10/dist-packages/sklearn/cluster/_kmeans.py:870: FutureWarning: The default value of `n_init` will change from 10 to 'auto' in 1.4. Set the value of `n_init` explicitly to suppress the warning\n",
            "  warnings.warn(\n"
          ]
        },
        {
          "output_type": "execute_result",
          "data": {
            "text/plain": [
              "KMeans(random_state=42)"
            ],
            "text/html": [
              "<style>#sk-container-id-6 {color: black;background-color: white;}#sk-container-id-6 pre{padding: 0;}#sk-container-id-6 div.sk-toggleable {background-color: white;}#sk-container-id-6 label.sk-toggleable__label {cursor: pointer;display: block;width: 100%;margin-bottom: 0;padding: 0.3em;box-sizing: border-box;text-align: center;}#sk-container-id-6 label.sk-toggleable__label-arrow:before {content: \"▸\";float: left;margin-right: 0.25em;color: #696969;}#sk-container-id-6 label.sk-toggleable__label-arrow:hover:before {color: black;}#sk-container-id-6 div.sk-estimator:hover label.sk-toggleable__label-arrow:before {color: black;}#sk-container-id-6 div.sk-toggleable__content {max-height: 0;max-width: 0;overflow: hidden;text-align: left;background-color: #f0f8ff;}#sk-container-id-6 div.sk-toggleable__content pre {margin: 0.2em;color: black;border-radius: 0.25em;background-color: #f0f8ff;}#sk-container-id-6 input.sk-toggleable__control:checked~div.sk-toggleable__content {max-height: 200px;max-width: 100%;overflow: auto;}#sk-container-id-6 input.sk-toggleable__control:checked~label.sk-toggleable__label-arrow:before {content: \"▾\";}#sk-container-id-6 div.sk-estimator input.sk-toggleable__control:checked~label.sk-toggleable__label {background-color: #d4ebff;}#sk-container-id-6 div.sk-label input.sk-toggleable__control:checked~label.sk-toggleable__label {background-color: #d4ebff;}#sk-container-id-6 input.sk-hidden--visually {border: 0;clip: rect(1px 1px 1px 1px);clip: rect(1px, 1px, 1px, 1px);height: 1px;margin: -1px;overflow: hidden;padding: 0;position: absolute;width: 1px;}#sk-container-id-6 div.sk-estimator {font-family: monospace;background-color: #f0f8ff;border: 1px dotted black;border-radius: 0.25em;box-sizing: border-box;margin-bottom: 0.5em;}#sk-container-id-6 div.sk-estimator:hover {background-color: #d4ebff;}#sk-container-id-6 div.sk-parallel-item::after {content: \"\";width: 100%;border-bottom: 1px solid gray;flex-grow: 1;}#sk-container-id-6 div.sk-label:hover label.sk-toggleable__label {background-color: #d4ebff;}#sk-container-id-6 div.sk-serial::before {content: \"\";position: absolute;border-left: 1px solid gray;box-sizing: border-box;top: 0;bottom: 0;left: 50%;z-index: 0;}#sk-container-id-6 div.sk-serial {display: flex;flex-direction: column;align-items: center;background-color: white;padding-right: 0.2em;padding-left: 0.2em;position: relative;}#sk-container-id-6 div.sk-item {position: relative;z-index: 1;}#sk-container-id-6 div.sk-parallel {display: flex;align-items: stretch;justify-content: center;background-color: white;position: relative;}#sk-container-id-6 div.sk-item::before, #sk-container-id-6 div.sk-parallel-item::before {content: \"\";position: absolute;border-left: 1px solid gray;box-sizing: border-box;top: 0;bottom: 0;left: 50%;z-index: -1;}#sk-container-id-6 div.sk-parallel-item {display: flex;flex-direction: column;z-index: 1;position: relative;background-color: white;}#sk-container-id-6 div.sk-parallel-item:first-child::after {align-self: flex-end;width: 50%;}#sk-container-id-6 div.sk-parallel-item:last-child::after {align-self: flex-start;width: 50%;}#sk-container-id-6 div.sk-parallel-item:only-child::after {width: 0;}#sk-container-id-6 div.sk-dashed-wrapped {border: 1px dashed gray;margin: 0 0.4em 0.5em 0.4em;box-sizing: border-box;padding-bottom: 0.4em;background-color: white;}#sk-container-id-6 div.sk-label label {font-family: monospace;font-weight: bold;display: inline-block;line-height: 1.2em;}#sk-container-id-6 div.sk-label-container {text-align: center;}#sk-container-id-6 div.sk-container {/* jupyter's `normalize.less` sets `[hidden] { display: none; }` but bootstrap.min.css set `[hidden] { display: none !important; }` so we also need the `!important` here to be able to override the default hidden behavior on the sphinx rendered scikit-learn.org. See: https://github.com/scikit-learn/scikit-learn/issues/21755 */display: inline-block !important;position: relative;}#sk-container-id-6 div.sk-text-repr-fallback {display: none;}</style><div id=\"sk-container-id-6\" class=\"sk-top-container\"><div class=\"sk-text-repr-fallback\"><pre>KMeans(random_state=42)</pre><b>In a Jupyter environment, please rerun this cell to show the HTML representation or trust the notebook. <br />On GitHub, the HTML representation is unable to render, please try loading this page with nbviewer.org.</b></div><div class=\"sk-container\" hidden><div class=\"sk-item\"><div class=\"sk-estimator sk-toggleable\"><input class=\"sk-toggleable__control sk-hidden--visually\" id=\"sk-estimator-id-6\" type=\"checkbox\" checked><label for=\"sk-estimator-id-6\" class=\"sk-toggleable__label sk-toggleable__label-arrow\">KMeans</label><div class=\"sk-toggleable__content\"><pre>KMeans(random_state=42)</pre></div></div></div></div></div>"
            ]
          },
          "metadata": {},
          "execution_count": 164
        }
      ]
    },
    {
      "cell_type": "code",
      "source": [
        "cluster_labels = kmeans_model.labels_"
      ],
      "metadata": {
        "id": "TvzRnOBBOboZ"
      },
      "execution_count": 166,
      "outputs": []
    },
    {
      "cell_type": "code",
      "source": [
        "from sklearn.metrics import silhouette_score\n",
        "silhouette_avg = silhouette_score(loo, cluster_labels)\n",
        "print(f\"Silhouette Score: {silhouette_avg}\")"
      ],
      "metadata": {
        "colab": {
          "base_uri": "https://localhost:8080/"
        },
        "id": "sIa35dsRqz6C",
        "outputId": "ff65467b-651c-46d0-df91-a2bfade0f5fd"
      },
      "execution_count": 168,
      "outputs": [
        {
          "output_type": "stream",
          "name": "stdout",
          "text": [
            "Silhouette Score: 0.9847809214155758\n"
          ]
        }
      ]
    },
    {
      "cell_type": "code",
      "source": [
        "for i in range(num_clusters):\n",
        "    cluster_i_dialogs = data[cluster_labels == i]['new_user_part']\n",
        "    print(f\"Cluster {i + 1} Dialogs:\\n{cluster_i_dialogs}\\n\")"
      ],
      "metadata": {
        "id": "6aUCRJ-TrKMF",
        "colab": {
          "base_uri": "https://localhost:8080/"
        },
        "outputId": "0673cd4a-b2e2-4e35-d5f1-2c2d73832a82"
      },
      "execution_count": 167,
      "outputs": [
        {
          "output_type": "stream",
          "name": "stdout",
          "text": [
            "Cluster 1 Dialogs:\n",
            "8                                                         \n",
            "9                                                         \n",
            "12       давать давать нет нет интернет видеонаблюдение...\n",
            "13                                                        \n",
            "16                                извинять опаздывать плюс\n",
            "                               ...                        \n",
            "39064                                                  NaN\n",
            "39065                                                  NaN\n",
            "39066                                                  NaN\n",
            "39067                                                  NaN\n",
            "39068                                                  NaN\n",
            "Name: new_user_part, Length: 38477, dtype: object\n",
            "\n",
            "Cluster 2 Dialogs:\n",
            "3                                                нет нет\n",
            "10                                                   нет\n",
            "22     девушка спасиб весь место занимать свободный е...\n",
            "39                                                 да да\n",
            "43     нет нет не хотеть слушать нет нет не хотеть сл...\n",
            "                             ...                        \n",
            "980                                              нет нет\n",
            "987                                              нет нет\n",
            "990                                              нет нет\n",
            "996    уточнять вопрос звонить уточнять вопрос звонит...\n",
            "999                                              нет нет\n",
            "Name: new_user_part, Length: 151, dtype: object\n",
            "\n",
            "Cluster 3 Dialogs:\n",
            "18                                           нет спасибо\n",
            "20                                            не спасибо\n",
            "57                                               спасибо\n",
            "61                       нет нет спасибо нет нет спасибо\n",
            "108                                              спасибо\n",
            "117                                    нет время спасибо\n",
            "121                                          нет спасибо\n",
            "125                             нет нет не связь спасибо\n",
            "136                                          нет спасибо\n",
            "146    нет нет нет юля толь ибо нет нет нет нет юля т...\n",
            "150            нет спасибо большой не интересный спасибо\n",
            "165                                 нет ничто не спасибо\n",
            "169                       слушать слушать да нет спасибо\n",
            "184    нет бизнес поэтому не спасибо нет бизнес поэто...\n",
            "214                              нет да не спать спасибо\n",
            "230                                          нет спасибо\n",
            "261                                    да да нет спасибо\n",
            "271                                    да нет не спасибо\n",
            "285                                          нет спасибо\n",
            "289                                              спасибо\n",
            "300          да суша идти голова повертывать нет спасибо\n",
            "322                     нет не бизнесмен нет нет спасибо\n",
            "325               нет не нужно нет необходимость спасибо\n",
            "326                                       нет не спасибо\n",
            "352                                      спасибо спасибо\n",
            "383                                 нет не нужно спасибо\n",
            "398                                          нет спасибо\n",
            "415                                          нет спасибо\n",
            "417                                  нет нет нет спасибо\n",
            "427                                          нет спасибо\n",
            "429                                 целиком нету спасибо\n",
            "435                            не нет спасибо не спасибо\n",
            "450                                      але нет спасибо\n",
            "505                                              спасибо\n",
            "551                          нет спасать ибо нет спасибо\n",
            "569                              нет спасибо нет спасибо\n",
            "578                                              спасибо\n",
            "586                                нет интересно спасибо\n",
            "602    передача сообщение нужно узнавать цель звонок ...\n",
            "604                  нет спасибо нет спасибо нет спасибо\n",
            "630                  нет спасибо нет спасибо нет спасибо\n",
            "657    ой не детка работать нет старик не ой не детка...\n",
            "674                                        привет привет\n",
            "693                                       нет не спасибо\n",
            "712    передача сообщение нужно узнавать цель звонок ...\n",
            "736                                          нет спасибо\n",
            "745                    знать это не интересовать спасибо\n",
            "753                                          нет спасибо\n",
            "767                                нет не нужный спасибо\n",
            "792                              спасибо спасибо спасибо\n",
            "843                                              спасибо\n",
            "864    нет девочка спасибо большой не интересовать сп...\n",
            "866                              нет спасибо нет спасибо\n",
            "867                              нет спасибо нет спасибо\n",
            "881                   случай аля да нет ничто не спасибо\n",
            "922                  нет спасибо нет спасибо нет спасибо\n",
            "929    скорость лик скорость лик да тело да тело ладн...\n",
            "967                        нет не спасибо нет не спасибо\n",
            "989                              нет спасибо нет спасибо\n",
            "Name: new_user_part, dtype: object\n",
            "\n",
            "Cluster 4 Dialogs:\n",
            "19                                                   т т\n",
            "44                                                     д\n",
            "78                                        сотрудничать л\n",
            "93                                                     т\n",
            "106                                                    н\n",
            "126                                                    е\n",
            "159                                                  е е\n",
            "179                                                  т т\n",
            "201                                                    т\n",
            "314                      нет нет нет это не не возраст п\n",
            "359                                      слово г слово г\n",
            "366                                                т т т\n",
            "411            говорить говорить говорить да да да ч ч ч\n",
            "421                                                т т т\n",
            "443                                                    е\n",
            "485                                                   пр\n",
            "511                                                    т\n",
            "532                                                    е\n",
            "536                                                  т т\n",
            "541                                                    е\n",
            "559                                                м м м\n",
            "582                                                  ю е\n",
            "599    да не особенно согласный не особенно согласный...\n",
            "633                                                    е\n",
            "697                                                    е\n",
            "752                                        нет нет нет б\n",
            "755    нет извинять занимать нет извинять занимать не...\n",
            "760                                                е е е\n",
            "802                                          еда т еда т\n",
            "835                                                  е б\n",
            "851                                                    п\n",
            "852                                                  ред\n",
            "858                                                    е\n",
            "861                                                    п\n",
            "883                        але але але нет п нет п нет п\n",
            "894    не повод восток сеть бизнес классно послужить ...\n",
            "934                                                ю ю ю\n",
            "943                                не не не не не е не е\n",
            "946                                                  т т\n",
            "Name: new_user_part, dtype: object\n",
            "\n",
            "Cluster 5 Dialogs:\n",
            "4      это виртуальный сеть это виртуальный сеть это ...\n",
            "77     это виртуальный ассистент мочь представлять ка...\n",
            "97                     не спать сегодня спасибо свидание\n",
            "107                                     нет нет свидание\n",
            "110    минутка выслушивать говорить секретарь передав...\n",
            "140    минутка выслушивать говорить секретарь передав...\n",
            "141    ой извинять пожалуйста свида ой извинять пожал...\n",
            "198                  свидание свидание свидание свидание\n",
            "207                                    свидание свидание\n",
            "231          нет спасибо спасибо спасибо нет не свидание\n",
            "301                                     спасибо свидание\n",
            "310    дозваниваться дозваниваться сказать звонить со...\n",
            "335    спасибо свидание спасибо свидание спасибо свид...\n",
            "420    нет не согласный не согласный свидание нет не ...\n",
            "441    засекать вопрос говорить секретарь передавать ...\n",
            "445                                 нет спасибо свидание\n",
            "469    нет спасибо не бизнес бизнес нет никакой бизне...\n",
            "486    отправлять сообщение место работа свидание отп...\n",
            "492                                             свидание\n",
            "544    случ случай не получаться вопрос записывать со...\n",
            "561    не не это предприятие не не не это предприятие...\n",
            "568    передача сообщение нужно узнавать цель звонок ...\n",
            "577                                         нет свидание\n",
            "632    это виртуальный ася это виртуальный ася это ви...\n",
            "665                         нет нет нет спасибо свидание\n",
            "676    не нужно поэтому бизнес не заниматься спасибо ...\n",
            "710    нет данный момент знание девушка не мочь нет н...\n",
            "750    яро целиком работать не подводить это весь дев...\n",
            "821    нет спасибо не интересовать нет спасибо не инт...\n",
            "828    говорить нет девушка нет интернет нет нет весь...\n",
            "850                           свидание свидание свидание\n",
            "879                                      добрый свидание\n",
            "931    передача сообщение нужно узнавать цель звонок ...\n",
            "945    нет нет не согласный свидание нет нет не согла...\n",
            "979    нет не согласный свидание нет не согласный сви...\n",
            "995    засека говорить засека говорить говорить секре...\n",
            "Name: new_user_part, dtype: object\n",
            "\n",
            "Cluster 6 Dialogs:\n",
            "5                                                але але\n",
            "38                                                   але\n",
            "56                                               але але\n",
            "104                                              але але\n",
            "130                                          але але але\n",
            "154                                                  але\n",
            "209                                                  але\n",
            "217        ой не руль извинять машина давать пос але але\n",
            "328                                     спасибо не е але\n",
            "362                                                  але\n",
            "498                                                  але\n",
            "517                                                  але\n",
            "539                                                  але\n",
            "542                                          але але але\n",
            "608                                                  але\n",
            "620                                                  але\n",
            "667                                 да але да але да але\n",
            "686    здравствовать позвонить группа м русый лес ваш...\n",
            "913                                              але але\n",
            "932    ростелеком предлагать але ростелеком предлагат...\n",
            "984                                              але але\n",
            "Name: new_user_part, dtype: object\n",
            "\n",
            "Cluster 7 Dialogs:\n",
            "0      але добрый день приходиться сожаление переключ...\n",
            "1                                           не интересно\n",
            "2                          нет нет нет занимать занимать\n",
            "6                                                 але ко\n",
            "7                  пожар школа вскоре пожар школа вскоре\n",
            "                             ...                        \n",
            "974                                спасибо не спасибо не\n",
            "981    девочка не нужный ничто весь девочка не нужный...\n",
            "986                          нет нет время нет нет время\n",
            "992    не отвечать ерунда постоянно прерывать сегодня...\n",
            "993            нет нет не интересно нет нет не интересно\n",
            "Name: new_user_part, Length: 255, dtype: object\n",
            "\n",
            "Cluster 8 Dialogs:\n",
            "48                                         нет не нужный\n",
            "54                                           такси такси\n",
            "129                                 ко черта лев реклама\n",
            "137     согласный успевать подключать мобильный интернет\n",
            "194                   нет это не нужно нет это не нужный\n",
            "199    слушать сказать предложение сильно ограничиват...\n",
            "203                              нет это рабочий телефон\n",
            "252    минутка говорить секретарь передавать ваш сооб...\n",
            "334                           нормально девушка интернет\n",
            "430    девушка давно не заниматься бизнес глубокий пе...\n",
            "459    нет бизнес не не не нужный никакой телефон нет...\n",
            "471    это номер частный лицо пожалуйста не звонить э...\n",
            "476                                    документ документ\n",
            "482    угу угу угу подключать давно подключать давно ...\n",
            "508      спасибо это не интересный спасибо не интересный\n",
            "590    случай случай учиться сказать сказать хотеть п...\n",
            "628    продолжение разговор подтвердить не бот выбира...\n",
            "688     не очень удобно не очень удобно не очень удобный\n",
            "705                                   не нет телик бланк\n",
            "715    пожалуйста очень занятый ничто нельзя поздно п...\n",
            "727    это виртуальный сеть это виртуальный сеть это ...\n",
            "757    сеть клуб английский язык сойер приветствовать...\n",
            "778                    нет не передавать нести позвонить\n",
            "784                                 ремень не не звонить\n",
            "786    не нужный не нужный не нужный не нужный не нуж...\n",
            "819    занимать говорить говорить да слушать сказать ...\n",
            "855    сколько примерно занимать наш разговор минута ...\n",
            "892    извинять набирать номер временно заблокировать...\n",
            "898               нет не согласный нет спасибо не нужный\n",
            "912    занимать минута занимать минута говорить говор...\n",
            "923    ваш звонок специальный сообщение сли звуковой ...\n",
            "Name: new_user_part, dtype: object\n",
            "\n"
          ]
        }
      ]
    },
    {
      "cell_type": "code",
      "source": [],
      "metadata": {
        "id": "JuHJtqwoVC17"
      },
      "execution_count": null,
      "outputs": []
    },
    {
      "cell_type": "code",
      "source": [],
      "metadata": {
        "id": "m6AFs2HZVCzj"
      },
      "execution_count": null,
      "outputs": []
    },
    {
      "cell_type": "code",
      "source": [],
      "metadata": {
        "id": "I9mndN5RVCvj"
      },
      "execution_count": null,
      "outputs": []
    },
    {
      "cell_type": "code",
      "source": [],
      "metadata": {
        "id": "aMtxJuvpVCsY"
      },
      "execution_count": null,
      "outputs": []
    },
    {
      "cell_type": "code",
      "source": [],
      "metadata": {
        "id": "Z7s_gFGDVCjC"
      },
      "execution_count": null,
      "outputs": []
    },
    {
      "cell_type": "code",
      "source": [
        "!pip install umap-learn"
      ],
      "metadata": {
        "colab": {
          "base_uri": "https://localhost:8080/"
        },
        "id": "GkVO_-hlLnv_",
        "outputId": "50dd5593-1701-4156-b951-c192ca8cc0ed"
      },
      "execution_count": 37,
      "outputs": [
        {
          "output_type": "stream",
          "name": "stdout",
          "text": [
            "Installing collected packages: pynndescent, umap-learn\n",
            "Successfully installed pynndescent-0.5.11 umap-learn-0.5.5\n"
          ]
        }
      ]
    },
    {
      "cell_type": "code",
      "source": [
        "from sklearn.decomposition import PCA\n",
        "import umap"
      ],
      "metadata": {
        "id": "LQU1Bz3OLvr5"
      },
      "execution_count": 38,
      "outputs": []
    },
    {
      "cell_type": "code",
      "source": [
        "text = 'привет как дела'"
      ],
      "metadata": {
        "id": "MjOpRr7BMyVw"
      },
      "execution_count": 41,
      "outputs": []
    },
    {
      "cell_type": "code",
      "source": [
        "pca = PCA(n_components=2)\n",
        "pca_result = pca.fit_transform(get_sentence_embedding(text))"
      ],
      "metadata": {
        "id": "HMZ1N8RRMTvZ"
      },
      "execution_count": null,
      "outputs": []
    },
    {
      "cell_type": "code",
      "source": [
        "umap_model = umap.UMAP(n_components=2)\n",
        "umap_result = umap_model.fit_transform(data)"
      ],
      "metadata": {
        "colab": {
          "base_uri": "https://localhost:8080/",
          "height": 435
        },
        "id": "KN1lUIXPNLo8",
        "outputId": "60b15aa3-f6b0-48a9-9dbb-48bd81625ff7"
      },
      "execution_count": 46,
      "outputs": [
        {
          "output_type": "error",
          "ename": "ValueError",
          "evalue": "ignored",
          "traceback": [
            "\u001b[0;31m---------------------------------------------------------------------------\u001b[0m",
            "\u001b[0;31mTypeError\u001b[0m                                 Traceback (most recent call last)",
            "\u001b[0;31mTypeError\u001b[0m: only size-1 arrays can be converted to Python scalars",
            "\nThe above exception was the direct cause of the following exception:\n",
            "\u001b[0;31mValueError\u001b[0m                                Traceback (most recent call last)",
            "\u001b[0;32m<ipython-input-46-200fab281148>\u001b[0m in \u001b[0;36m<cell line: 2>\u001b[0;34m()\u001b[0m\n\u001b[1;32m      1\u001b[0m \u001b[0mumap_model\u001b[0m \u001b[0;34m=\u001b[0m \u001b[0mumap\u001b[0m\u001b[0;34m.\u001b[0m\u001b[0mUMAP\u001b[0m\u001b[0;34m(\u001b[0m\u001b[0mn_components\u001b[0m\u001b[0;34m=\u001b[0m\u001b[0;36m2\u001b[0m\u001b[0;34m)\u001b[0m\u001b[0;34m\u001b[0m\u001b[0;34m\u001b[0m\u001b[0m\n\u001b[0;32m----> 2\u001b[0;31m \u001b[0mumap_result\u001b[0m \u001b[0;34m=\u001b[0m \u001b[0mumap_model\u001b[0m\u001b[0;34m.\u001b[0m\u001b[0mfit_transform\u001b[0m\u001b[0;34m(\u001b[0m\u001b[0mdata\u001b[0m\u001b[0;34m.\u001b[0m\u001b[0membeddings\u001b[0m\u001b[0;34m)\u001b[0m\u001b[0;34m\u001b[0m\u001b[0;34m\u001b[0m\u001b[0m\n\u001b[0m",
            "\u001b[0;32m/usr/local/lib/python3.10/dist-packages/umap/umap_.py\u001b[0m in \u001b[0;36mfit_transform\u001b[0;34m(self, X, y, force_all_finite)\u001b[0m\n\u001b[1;32m   2885\u001b[0m             \u001b[0mLocal\u001b[0m \u001b[0mradii\u001b[0m \u001b[0mof\u001b[0m \u001b[0mdata\u001b[0m \u001b[0mpoints\u001b[0m \u001b[0;32min\u001b[0m \u001b[0mthe\u001b[0m \u001b[0membedding\u001b[0m \u001b[0;34m(\u001b[0m\u001b[0mlog\u001b[0m\u001b[0;34m-\u001b[0m\u001b[0mtransformed\u001b[0m\u001b[0;34m)\u001b[0m\u001b[0;34m.\u001b[0m\u001b[0;34m\u001b[0m\u001b[0;34m\u001b[0m\u001b[0m\n\u001b[1;32m   2886\u001b[0m         \"\"\"\n\u001b[0;32m-> 2887\u001b[0;31m         \u001b[0mself\u001b[0m\u001b[0;34m.\u001b[0m\u001b[0mfit\u001b[0m\u001b[0;34m(\u001b[0m\u001b[0mX\u001b[0m\u001b[0;34m,\u001b[0m \u001b[0my\u001b[0m\u001b[0;34m,\u001b[0m \u001b[0mforce_all_finite\u001b[0m\u001b[0;34m)\u001b[0m\u001b[0;34m\u001b[0m\u001b[0;34m\u001b[0m\u001b[0m\n\u001b[0m\u001b[1;32m   2888\u001b[0m         \u001b[0;32mif\u001b[0m \u001b[0mself\u001b[0m\u001b[0;34m.\u001b[0m\u001b[0mtransform_mode\u001b[0m \u001b[0;34m==\u001b[0m \u001b[0;34m\"embedding\"\u001b[0m\u001b[0;34m:\u001b[0m\u001b[0;34m\u001b[0m\u001b[0;34m\u001b[0m\u001b[0m\n\u001b[1;32m   2889\u001b[0m             \u001b[0;32mif\u001b[0m \u001b[0mself\u001b[0m\u001b[0;34m.\u001b[0m\u001b[0moutput_dens\u001b[0m\u001b[0;34m:\u001b[0m\u001b[0;34m\u001b[0m\u001b[0;34m\u001b[0m\u001b[0m\n",
            "\u001b[0;32m/usr/local/lib/python3.10/dist-packages/umap/umap_.py\u001b[0m in \u001b[0;36mfit\u001b[0;34m(self, X, y, force_all_finite)\u001b[0m\n\u001b[1;32m   2352\u001b[0m         \"\"\"\n\u001b[1;32m   2353\u001b[0m \u001b[0;34m\u001b[0m\u001b[0m\n\u001b[0;32m-> 2354\u001b[0;31m         \u001b[0mX\u001b[0m \u001b[0;34m=\u001b[0m \u001b[0mcheck_array\u001b[0m\u001b[0;34m(\u001b[0m\u001b[0mX\u001b[0m\u001b[0;34m,\u001b[0m \u001b[0mdtype\u001b[0m\u001b[0;34m=\u001b[0m\u001b[0mnp\u001b[0m\u001b[0;34m.\u001b[0m\u001b[0mfloat32\u001b[0m\u001b[0;34m,\u001b[0m \u001b[0maccept_sparse\u001b[0m\u001b[0;34m=\u001b[0m\u001b[0;34m\"csr\"\u001b[0m\u001b[0;34m,\u001b[0m \u001b[0morder\u001b[0m\u001b[0;34m=\u001b[0m\u001b[0;34m\"C\"\u001b[0m\u001b[0;34m,\u001b[0m \u001b[0mforce_all_finite\u001b[0m\u001b[0;34m=\u001b[0m\u001b[0mforce_all_finite\u001b[0m\u001b[0;34m)\u001b[0m\u001b[0;34m\u001b[0m\u001b[0;34m\u001b[0m\u001b[0m\n\u001b[0m\u001b[1;32m   2355\u001b[0m         \u001b[0mself\u001b[0m\u001b[0;34m.\u001b[0m\u001b[0m_raw_data\u001b[0m \u001b[0;34m=\u001b[0m \u001b[0mX\u001b[0m\u001b[0;34m\u001b[0m\u001b[0;34m\u001b[0m\u001b[0m\n\u001b[1;32m   2356\u001b[0m \u001b[0;34m\u001b[0m\u001b[0m\n",
            "\u001b[0;32m/usr/local/lib/python3.10/dist-packages/sklearn/utils/validation.py\u001b[0m in \u001b[0;36mcheck_array\u001b[0;34m(array, accept_sparse, accept_large_sparse, dtype, order, copy, force_all_finite, ensure_2d, allow_nd, ensure_min_samples, ensure_min_features, estimator, input_name)\u001b[0m\n\u001b[1;32m    877\u001b[0m                     \u001b[0marray\u001b[0m \u001b[0;34m=\u001b[0m \u001b[0mxp\u001b[0m\u001b[0;34m.\u001b[0m\u001b[0mastype\u001b[0m\u001b[0;34m(\u001b[0m\u001b[0marray\u001b[0m\u001b[0;34m,\u001b[0m \u001b[0mdtype\u001b[0m\u001b[0;34m,\u001b[0m \u001b[0mcopy\u001b[0m\u001b[0;34m=\u001b[0m\u001b[0;32mFalse\u001b[0m\u001b[0;34m)\u001b[0m\u001b[0;34m\u001b[0m\u001b[0;34m\u001b[0m\u001b[0m\n\u001b[1;32m    878\u001b[0m                 \u001b[0;32melse\u001b[0m\u001b[0;34m:\u001b[0m\u001b[0;34m\u001b[0m\u001b[0;34m\u001b[0m\u001b[0m\n\u001b[0;32m--> 879\u001b[0;31m                     \u001b[0marray\u001b[0m \u001b[0;34m=\u001b[0m \u001b[0m_asarray_with_order\u001b[0m\u001b[0;34m(\u001b[0m\u001b[0marray\u001b[0m\u001b[0;34m,\u001b[0m \u001b[0morder\u001b[0m\u001b[0;34m=\u001b[0m\u001b[0morder\u001b[0m\u001b[0;34m,\u001b[0m \u001b[0mdtype\u001b[0m\u001b[0;34m=\u001b[0m\u001b[0mdtype\u001b[0m\u001b[0;34m,\u001b[0m \u001b[0mxp\u001b[0m\u001b[0;34m=\u001b[0m\u001b[0mxp\u001b[0m\u001b[0;34m)\u001b[0m\u001b[0;34m\u001b[0m\u001b[0;34m\u001b[0m\u001b[0m\n\u001b[0m\u001b[1;32m    880\u001b[0m             \u001b[0;32mexcept\u001b[0m \u001b[0mComplexWarning\u001b[0m \u001b[0;32mas\u001b[0m \u001b[0mcomplex_warning\u001b[0m\u001b[0;34m:\u001b[0m\u001b[0;34m\u001b[0m\u001b[0;34m\u001b[0m\u001b[0m\n\u001b[1;32m    881\u001b[0m                 raise ValueError(\n",
            "\u001b[0;32m/usr/local/lib/python3.10/dist-packages/sklearn/utils/_array_api.py\u001b[0m in \u001b[0;36m_asarray_with_order\u001b[0;34m(array, dtype, order, copy, xp)\u001b[0m\n\u001b[1;32m    183\u001b[0m     \u001b[0;32mif\u001b[0m \u001b[0mxp\u001b[0m\u001b[0;34m.\u001b[0m\u001b[0m__name__\u001b[0m \u001b[0;32min\u001b[0m \u001b[0;34m{\u001b[0m\u001b[0;34m\"numpy\"\u001b[0m\u001b[0;34m,\u001b[0m \u001b[0;34m\"numpy.array_api\"\u001b[0m\u001b[0;34m}\u001b[0m\u001b[0;34m:\u001b[0m\u001b[0;34m\u001b[0m\u001b[0;34m\u001b[0m\u001b[0m\n\u001b[1;32m    184\u001b[0m         \u001b[0;31m# Use NumPy API to support order\u001b[0m\u001b[0;34m\u001b[0m\u001b[0;34m\u001b[0m\u001b[0m\n\u001b[0;32m--> 185\u001b[0;31m         \u001b[0marray\u001b[0m \u001b[0;34m=\u001b[0m \u001b[0mnumpy\u001b[0m\u001b[0;34m.\u001b[0m\u001b[0masarray\u001b[0m\u001b[0;34m(\u001b[0m\u001b[0marray\u001b[0m\u001b[0;34m,\u001b[0m \u001b[0morder\u001b[0m\u001b[0;34m=\u001b[0m\u001b[0morder\u001b[0m\u001b[0;34m,\u001b[0m \u001b[0mdtype\u001b[0m\u001b[0;34m=\u001b[0m\u001b[0mdtype\u001b[0m\u001b[0;34m)\u001b[0m\u001b[0;34m\u001b[0m\u001b[0;34m\u001b[0m\u001b[0m\n\u001b[0m\u001b[1;32m    186\u001b[0m         \u001b[0;32mreturn\u001b[0m \u001b[0mxp\u001b[0m\u001b[0;34m.\u001b[0m\u001b[0masarray\u001b[0m\u001b[0;34m(\u001b[0m\u001b[0marray\u001b[0m\u001b[0;34m,\u001b[0m \u001b[0mcopy\u001b[0m\u001b[0;34m=\u001b[0m\u001b[0mcopy\u001b[0m\u001b[0;34m)\u001b[0m\u001b[0;34m\u001b[0m\u001b[0;34m\u001b[0m\u001b[0m\n\u001b[1;32m    187\u001b[0m     \u001b[0;32melse\u001b[0m\u001b[0;34m:\u001b[0m\u001b[0;34m\u001b[0m\u001b[0;34m\u001b[0m\u001b[0m\n",
            "\u001b[0;32m/usr/local/lib/python3.10/dist-packages/pandas/core/series.py\u001b[0m in \u001b[0;36m__array__\u001b[0;34m(self, dtype)\u001b[0m\n\u001b[1;32m    891\u001b[0m               dtype='datetime64[ns]')\n\u001b[1;32m    892\u001b[0m         \"\"\"\n\u001b[0;32m--> 893\u001b[0;31m         \u001b[0;32mreturn\u001b[0m \u001b[0mnp\u001b[0m\u001b[0;34m.\u001b[0m\u001b[0masarray\u001b[0m\u001b[0;34m(\u001b[0m\u001b[0mself\u001b[0m\u001b[0;34m.\u001b[0m\u001b[0m_values\u001b[0m\u001b[0;34m,\u001b[0m \u001b[0mdtype\u001b[0m\u001b[0;34m)\u001b[0m\u001b[0;34m\u001b[0m\u001b[0;34m\u001b[0m\u001b[0m\n\u001b[0m\u001b[1;32m    894\u001b[0m \u001b[0;34m\u001b[0m\u001b[0m\n\u001b[1;32m    895\u001b[0m     \u001b[0;31m# ----------------------------------------------------------------------\u001b[0m\u001b[0;34m\u001b[0m\u001b[0;34m\u001b[0m\u001b[0m\n",
            "\u001b[0;31mValueError\u001b[0m: setting an array element with a sequence."
          ]
        }
      ]
    }
  ],
  "metadata": {
    "colab": {
      "provenance": []
    },
    "kernelspec": {
      "display_name": "Python 3",
      "name": "python3"
    },
    "language_info": {
      "name": "python"
    }
  },
  "nbformat": 4,
  "nbformat_minor": 0
}